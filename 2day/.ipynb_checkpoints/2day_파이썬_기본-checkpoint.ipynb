{
 "cells": [
  {
   "cell_type": "markdown",
   "id": "36d332dc",
   "metadata": {},
   "source": [
    "# 변수와 연산자\n",
    "## 코드 실행 방법1 : ctrl + Enter\n",
    "### 코드 실행 방법2: shift + Enter --> 현재 셀 실행후 다음 셀로 이동"
   ]
  },
  {
   "cell_type": "markdown",
   "id": "c2446170",
   "metadata": {},
   "source": [
    "#### 코드 실행 방법3: alt + Enter --> 현재 셀 실행후 밑에 셀 생성"
   ]
  },
  {
   "cell_type": "code",
   "execution_count": 6,
   "id": "1b900c25",
   "metadata": {},
   "outputs": [],
   "source": [
    "# 변수 이름 정의\n",
    "# 오른쪽의 값을 왼쪽의 이름(메모리공간)에 저장\n",
    "my_age = 22"
   ]
  },
  {
   "cell_type": "code",
   "execution_count": 8,
   "id": "074751da",
   "metadata": {},
   "outputs": [
    {
     "name": "stdout",
     "output_type": "stream",
     "text": [
      "22\n"
     ]
    }
   ],
   "source": [
    "print(my_age)"
   ]
  },
  {
   "cell_type": "code",
   "execution_count": 9,
   "id": "73bf2e41",
   "metadata": {},
   "outputs": [
    {
     "name": "stdout",
     "output_type": "stream",
     "text": [
      "177\n"
     ]
    }
   ],
   "source": [
    "my_height = 177\n",
    "print(my_height)"
   ]
  },
  {
   "cell_type": "code",
   "execution_count": 11,
   "id": "b50a3957",
   "metadata": {},
   "outputs": [
    {
     "data": {
      "text/plain": [
       "199"
      ]
     },
     "execution_count": 11,
     "metadata": {},
     "output_type": "execute_result"
    }
   ],
   "source": [
    "# 연산\n",
    "my_age + my_height\n",
    "# 각 메모리 공간에 있는 값을 불러와서 cpu가 연산"
   ]
  },
  {
   "cell_type": "code",
   "execution_count": 13,
   "id": "9c918652",
   "metadata": {},
   "outputs": [
    {
     "name": "stdout",
     "output_type": "stream",
     "text": [
      "199\n"
     ]
    }
   ],
   "source": [
    "tot = my_age + my_height\n",
    "print(tot)"
   ]
  },
  {
   "cell_type": "code",
   "execution_count": 14,
   "id": "912e229e",
   "metadata": {},
   "outputs": [
    {
     "name": "stdout",
     "output_type": "stream",
     "text": [
      "22 177 199\n"
     ]
    }
   ],
   "source": [
    "### 여러 값 출력\n",
    "print(my_age, my_height, tot)"
   ]
  },
  {
   "cell_type": "code",
   "execution_count": 16,
   "id": "bea69fc0",
   "metadata": {},
   "outputs": [],
   "source": [
    "### 데이터 타입\n",
    "# int : 정수, 소수점이 없는 값\n",
    "# float: 소수점이 있는 값\n",
    "# str : 문자, 값이 \"\"나 ''로 감싸진 것"
   ]
  },
  {
   "cell_type": "code",
   "execution_count": 38,
   "id": "7ff1efb3",
   "metadata": {},
   "outputs": [
    {
     "name": "stdout",
     "output_type": "stream",
     "text": [
      "홍길동 25 185\n"
     ]
    }
   ],
   "source": [
    "name = \"홍길동\"\n",
    "name_age = \"25\"\n",
    "name_height = \"185\"\n",
    "print(name, name_age, name_height)"
   ]
  },
  {
   "cell_type": "code",
   "execution_count": 23,
   "id": "48ff6893",
   "metadata": {},
   "outputs": [
    {
     "data": {
      "text/plain": [
       "47"
      ]
     },
     "execution_count": 23,
     "metadata": {},
     "output_type": "execute_result"
    }
   ],
   "source": [
    "### 타입 변경: str --> int\n",
    "my_age + int(name_age)"
   ]
  },
  {
   "cell_type": "code",
   "execution_count": 24,
   "id": "fac30446",
   "metadata": {},
   "outputs": [
    {
     "data": {
      "text/plain": [
       "'2225'"
      ]
     },
     "execution_count": 24,
     "metadata": {},
     "output_type": "execute_result"
    }
   ],
   "source": [
    "### 타입 변경: int --> str\n",
    "str(my_age) + name_age"
   ]
  },
  {
   "cell_type": "code",
   "execution_count": 36,
   "id": "2183af09",
   "metadata": {},
   "outputs": [
    {
     "name": "stdout",
     "output_type": "stream",
     "text": [
      "1\n",
      "2\n"
     ]
    }
   ],
   "source": [
    "### 산술 연산자\n",
    "# + - * / // %\n",
    "a = 6\n",
    "b = 4\n",
    "tot = a + b\n",
    "tot = a - b\n",
    "tot = a * b\n",
    "tot = a / b\n",
    "# // : 나눈 몫\n",
    "tot = a // b\n",
    "print(tot)\n",
    "tot = a % b\n",
    "print(tot)"
   ]
  },
  {
   "cell_type": "code",
   "execution_count": 45,
   "id": "fb46b6eb",
   "metadata": {},
   "outputs": [
    {
     "name": "stdout",
     "output_type": "stream",
     "text": [
      "홍길동\n",
      "홍\n"
     ]
    }
   ],
   "source": [
    "print(name)\n",
    "\"\"\"\n",
    "문자열의 경우 문자 개수만큼의 메모리공간 생성\n",
    "전체 메모리 공간에 주소 할당\n",
    "각 문자에 index 할당 --> 배열 인덱싱으로 각 값 추출 가능\n",
    "\"\"\"\n",
    "print(name[0])"
   ]
  },
  {
   "cell_type": "code",
   "execution_count": 49,
   "id": "97579c14",
   "metadata": {},
   "outputs": [
    {
     "name": "stdout",
     "output_type": "stream",
     "text": [
      "6 4 2\n"
     ]
    }
   ],
   "source": [
    "\"\"\"\n",
    "[장문의 주석은 큰따옴표 3쌍]\n",
    "조건연산자 : 크다(>), 작다(<), 같다(==), 같지않다(!=), 크거나같다(>=), 작거나 같다(<=)\n",
    "조건연산자는 항상 값 기준으로 비교\n",
    "\"\"\"\n",
    "print(a, b, tot)"
   ]
  },
  {
   "cell_type": "code",
   "execution_count": 52,
   "id": "4661dd58",
   "metadata": {},
   "outputs": [
    {
     "data": {
      "text/plain": [
       "True"
      ]
     },
     "execution_count": 52,
     "metadata": {},
     "output_type": "execute_result"
    }
   ],
   "source": [
    "# True = 1, Flase = 0\n",
    "a > b"
   ]
  },
  {
   "cell_type": "code",
   "execution_count": 55,
   "id": "a53c3097",
   "metadata": {},
   "outputs": [
    {
     "data": {
      "text/plain": [
       "True"
      ]
     },
     "execution_count": 55,
     "metadata": {},
     "output_type": "execute_result"
    }
   ],
   "source": [
    "a >= b"
   ]
  },
  {
   "cell_type": "code",
   "execution_count": 56,
   "id": "2317f664",
   "metadata": {},
   "outputs": [
    {
     "data": {
      "text/plain": [
       "True"
      ]
     },
     "execution_count": 56,
     "metadata": {},
     "output_type": "execute_result"
    }
   ],
   "source": [
    "a != b"
   ]
  },
  {
   "cell_type": "code",
   "execution_count": 60,
   "id": "8276d8b2",
   "metadata": {},
   "outputs": [
    {
     "name": "stdout",
     "output_type": "stream",
     "text": [
      "큽니다\n"
     ]
    }
   ],
   "source": [
    "### 조건문(선택문)\n",
    "if a > b:\n",
    "    print(\"큽니다\")\n",
    "else:\n",
    "    print(\"작습니다\")"
   ]
  },
  {
   "cell_type": "code",
   "execution_count": 64,
   "id": "7dd77b2b",
   "metadata": {},
   "outputs": [
    {
     "name": "stdout",
     "output_type": "stream",
     "text": [
      "b가 a보다 작습니다\n"
     ]
    }
   ],
   "source": [
    "if a < b:\n",
    "    print(\"큽니다\")\n",
    "elif a == b:\n",
    "    print(\"같습니다\")\n",
    "else:\n",
    "    print(\"b가 a보다 작습니다\")\n",
    "# 조건에 맞는게 없으면 else 무조건 실행"
   ]
  },
  {
   "cell_type": "code",
   "execution_count": 65,
   "id": "abcae5b3",
   "metadata": {},
   "outputs": [],
   "source": [
    "if a < b:\n",
    "    print(\"큽니다\")\n",
    "elif a == b:\n",
    "    print(\"같습니다\")\n",
    "# else가 없을때 조건에 맞는게 없으면 끝"
   ]
  },
  {
   "cell_type": "code",
   "execution_count": 68,
   "id": "d2965ded",
   "metadata": {},
   "outputs": [
    {
     "name": "stdout",
     "output_type": "stream",
     "text": [
      "홍길동2 입니다\n"
     ]
    }
   ],
   "source": [
    "a = 10\n",
    "b = 5\n",
    "name1 = \"홍길동1\"\n",
    "name2 = \"홍길동2\"\n",
    "if a < b:\n",
    "    if name1 == \"홍길동1\":\n",
    "        print(\"홍길동1 입니다\")\n",
    "    else:\n",
    "        print(\"해당 이름이 없습니다\")\n",
    "else:\n",
    "    if name2 == \"홍길동2\":\n",
    "        print(name2, \"입니다\")\n",
    "    else:\n",
    "        print(\"해당 이름이 없습니다\")"
   ]
  },
  {
   "cell_type": "code",
   "execution_count": 73,
   "id": "0910417a",
   "metadata": {},
   "outputs": [
    {
     "name": "stdout",
     "output_type": "stream",
     "text": [
      "male\n"
     ]
    }
   ],
   "source": [
    "### [문제]\n",
    "# - 남자인지 여자인지 출력\n",
    "jumin = \"000128-3******\"\n",
    "\n",
    "if int(jumin[7]) % 2 == 0:\n",
    "    print(\"female\")\n",
    "else:\n",
    "    print(\"male\")"
   ]
  },
  {
   "cell_type": "code",
   "execution_count": 1,
   "id": "c5795636",
   "metadata": {},
   "outputs": [
    {
     "name": "stdout",
     "output_type": "stream",
     "text": [
      "주민번호 뒷자리3815017\n",
      "male\n"
     ]
    }
   ],
   "source": [
    "jumin = int(input(\"주민번호 뒷자리\"))\n",
    "num = jumin // 1000000\n",
    "if num % 2 == 0:\n",
    "    print(\"female\")\n",
    "else:\n",
    "    print(\"male\")"
   ]
  },
  {
   "cell_type": "code",
   "execution_count": 8,
   "id": "5eced2ac",
   "metadata": {},
   "outputs": [
    {
     "name": "stdout",
     "output_type": "stream",
     "text": [
      "나의 이름은 홍길동이고, 나이는 홍길동입니다.\n"
     ]
    }
   ],
   "source": [
    "# .format(): 특정 중괄호 위치에 값 넣기 \n",
    "name = \"홍길동\"\n",
    "age = 20\n",
    "print(\"나의 이름은 {0}이고, 나이는 {0}입니다.\".format(name, age))"
   ]
  },
  {
   "cell_type": "code",
   "execution_count": 18,
   "id": "478dd40a",
   "metadata": {},
   "outputs": [
    {
     "data": {
      "text/plain": [
       "'2023-1-3'"
      ]
     },
     "execution_count": 18,
     "metadata": {},
     "output_type": "execute_result"
    }
   ],
   "source": [
    "yyyy = 2023\n",
    "mm = 1\n",
    "dd = 3\n",
    "\"{0}-{1}-{2}\".format(yyyy, mm, dd)"
   ]
  },
  {
   "cell_type": "code",
   "execution_count": 24,
   "id": "9a6936cd",
   "metadata": {},
   "outputs": [
    {
     "data": {
      "text/plain": [
       "'2023-1-3, 2023/1/3, 2023.1.3'"
      ]
     },
     "execution_count": 24,
     "metadata": {},
     "output_type": "execute_result"
    }
   ],
   "source": [
    "# 중괄호 내부에 format인자 인덱스 넣을때 모든 중괄호에 인덱스 넣어야함\n",
    "\"{0}-{1}-{2}, {0}/{1}/{2}, {0}.{1}.{2}\".format(yyyy, mm, dd)"
   ]
  },
  {
   "cell_type": "code",
   "execution_count": 25,
   "id": "ffb0b6a7",
   "metadata": {},
   "outputs": [
    {
     "name": "stdout",
     "output_type": "stream",
     "text": [
      "range(1, 101)\n"
     ]
    }
   ],
   "source": [
    "### 숫자의 범위 함수\n",
    "# 첫번째값: 시작값\n",
    "# 두번째값: 끝값(끝값 - 1까지 표현)\n",
    "# 세번째값: 증가값\n",
    "print(range(1, 101, 1))"
   ]
  },
  {
   "cell_type": "code",
   "execution_count": null,
   "id": "8f36476a",
   "metadata": {},
   "outputs": [],
   "source": [
    "### 반복문: 지정된 범위까지 반복하기(시작부터 끝까지)\n",
    "# for, while\n",
    "# for: 시작부터 끝까지의 범위가 지정되어야 함\n",
    "# while: 무한반복할때 주로 사용(기본 반복은 for문과 동일)"
   ]
  },
  {
   "cell_type": "code",
   "execution_count": 32,
   "id": "92bb8b3d",
   "metadata": {},
   "outputs": [
    {
     "name": "stdout",
     "output_type": "stream",
     "text": [
      "1번째 출력\n",
      "2번째 출력\n",
      "3번째 출력\n",
      "4번째 출력\n",
      "5번째 출력\n",
      "6번째 출력\n",
      "7번째 출력\n",
      "8번째 출력\n",
      "9번째 출력\n",
      "10번째 출력\n",
      "11번째 출력\n",
      "12번째 출력\n",
      "13번째 출력\n",
      "14번째 출력\n",
      "15번째 출력\n",
      "16번째 출력\n",
      "17번째 출력\n",
      "18번째 출력\n",
      "19번째 출력\n",
      "20번째 출력\n",
      "21번째 출력\n",
      "22번째 출력\n",
      "23번째 출력\n",
      "24번째 출력\n",
      "25번째 출력\n",
      "26번째 출력\n",
      "27번째 출력\n",
      "28번째 출력\n",
      "29번째 출력\n",
      "30번째 출력\n",
      "31번째 출력\n",
      "32번째 출력\n",
      "33번째 출력\n",
      "34번째 출력\n",
      "35번째 출력\n",
      "36번째 출력\n",
      "37번째 출력\n",
      "38번째 출력\n",
      "39번째 출력\n",
      "40번째 출력\n",
      "41번째 출력\n",
      "42번째 출력\n",
      "43번째 출력\n",
      "44번째 출력\n",
      "45번째 출력\n",
      "46번째 출력\n",
      "47번째 출력\n",
      "48번째 출력\n",
      "49번째 출력\n",
      "50번째 출력\n",
      "51번째 출력\n",
      "52번째 출력\n",
      "53번째 출력\n",
      "54번째 출력\n",
      "55번째 출력\n",
      "56번째 출력\n",
      "57번째 출력\n",
      "58번째 출력\n",
      "59번째 출력\n",
      "60번째 출력\n",
      "61번째 출력\n",
      "62번째 출력\n",
      "63번째 출력\n",
      "64번째 출력\n",
      "65번째 출력\n",
      "66번째 출력\n",
      "67번째 출력\n",
      "68번째 출력\n",
      "69번째 출력\n",
      "70번째 출력\n",
      "71번째 출력\n",
      "72번째 출력\n",
      "73번째 출력\n",
      "74번째 출력\n",
      "75번째 출력\n",
      "76번째 출력\n",
      "77번째 출력\n",
      "78번째 출력\n",
      "79번째 출력\n",
      "80번째 출력\n",
      "81번째 출력\n",
      "82번째 출력\n",
      "83번째 출력\n",
      "84번째 출력\n",
      "85번째 출력\n",
      "86번째 출력\n",
      "87번째 출력\n",
      "88번째 출력\n",
      "89번째 출력\n",
      "90번째 출력\n",
      "91번째 출력\n",
      "92번째 출력\n",
      "93번째 출력\n",
      "94번째 출력\n",
      "95번째 출력\n",
      "96번째 출력\n",
      "97번째 출력\n",
      "98번째 출력\n",
      "99번째 출력\n",
      "100번째 출력\n"
     ]
    }
   ],
   "source": [
    "# 1~100까지 반복하면서 값 출력하기\n",
    "for i in range(1, 101, 1):\n",
    "    print(\"{}번째 출력\".format(i))"
   ]
  },
  {
   "cell_type": "code",
   "execution_count": 42,
   "id": "5dd7b5f2",
   "metadata": {},
   "outputs": [
    {
     "name": "stdout",
     "output_type": "stream",
     "text": [
      "1번째 while처리\n",
      "2번째 while처리\n",
      "3번째 while처리\n",
      "4번째 while처리\n",
      "5번째 while처리\n",
      "6번째 while처리\n",
      "7번째 while처리\n",
      "8번째 while처리\n",
      "9번째 while처리\n",
      "10번째 while처리\n",
      "11번째 while처리\n"
     ]
    }
   ],
   "source": [
    "i = 0\n",
    "while i <= 10:\n",
    "    i+=1\n",
    "    print(\"{}번째 while처리\".format(i))"
   ]
  },
  {
   "cell_type": "code",
   "execution_count": 48,
   "id": "43b57590",
   "metadata": {},
   "outputs": [
    {
     "name": "stdout",
     "output_type": "stream",
     "text": [
      "0무한루프\n",
      "1무한루프\n",
      "2무한루프\n",
      "3무한루프\n",
      "4무한루프\n",
      "5무한루프\n",
      "6무한루프\n",
      "7무한루프\n",
      "8무한루프\n",
      "9무한루프\n",
      "브레이끼!!\n"
     ]
    }
   ],
   "source": [
    "i = 0\n",
    "while True:\n",
    "    print(\"{}무한루프\".format(i))\n",
    "    i += 1\n",
    "    if i == 10:\n",
    "        print(\"브레이끼!!\")\n",
    "        break"
   ]
  },
  {
   "cell_type": "code",
   "execution_count": 47,
   "id": "1b2655e4",
   "metadata": {},
   "outputs": [
    {
     "name": "stdout",
     "output_type": "stream",
     "text": [
      "1무한루프\n",
      "2무한루프\n",
      "3무한루프\n",
      "4무한루프\n",
      "5무한루프\n",
      "6무한루프\n",
      "7무한루프\n",
      "8무한루프\n",
      "9무한루프\n",
      "10무한루프\n"
     ]
    }
   ],
   "source": [
    "i = 0\n",
    "while True:\n",
    "    i += 1\n",
    "    print(\"{}무한루프\".format(i))\n",
    "    if i == 10:\n",
    "        break"
   ]
  },
  {
   "cell_type": "markdown",
   "id": "819b5060",
   "metadata": {},
   "source": [
    "### continue: 반복 건너뛰기\n",
    "- 조건 충족시 continue아래 코드 실행 안하고 다시 반복\n",
    "### break: 반복 종료"
   ]
  },
  {
   "cell_type": "code",
   "execution_count": 1,
   "id": "49ad12a0",
   "metadata": {},
   "outputs": [
    {
     "name": "stdout",
     "output_type": "stream",
     "text": [
      "51번째\n",
      "52번째\n",
      "53번째\n",
      "54번째\n",
      "55번째\n",
      "56번째\n",
      "57번째\n",
      "58번째\n",
      "59번째\n"
     ]
    }
   ],
   "source": [
    "for i in range(0, 101, 1):\n",
    "    if i <= 50:\n",
    "        continue\n",
    "    elif i == 60:\n",
    "        break\n",
    "    print(\"{}번째\".format(i))"
   ]
  },
  {
   "cell_type": "code",
   "execution_count": 1,
   "id": "8fb07fdb",
   "metadata": {},
   "outputs": [
    {
     "name": "stdout",
     "output_type": "stream",
     "text": [
      "2550\n"
     ]
    }
   ],
   "source": [
    "### [문제]\n",
    "# 0부터 100까지의 범위에서 짝수의 총합 출력\n",
    "i = 0\n",
    "j = 0\n",
    "while i <101:\n",
    "    i += 2\n",
    "    \n",
    "    if i > 100:\n",
    "        break\n",
    "    j += i\n",
    "print(j)"
   ]
  },
  {
   "cell_type": "code",
   "execution_count": 2,
   "id": "24576645",
   "metadata": {},
   "outputs": [
    {
     "name": "stdout",
     "output_type": "stream",
     "text": [
      "2550\n"
     ]
    }
   ],
   "source": [
    "j = 0\n",
    "for i in range(0, 101):\n",
    "    if i % 2 == 0:\n",
    "        j += i\n",
    "#         print(\"i={}, j={}\".format(i,j))\n",
    "print(j)"
   ]
  },
  {
   "cell_type": "markdown",
   "id": "498b56c7",
   "metadata": {},
   "source": [
    "### zfill(문자열 길이)\n",
    "- 문자열 길이에서 공백을 왼쪽부터 0으로 채움"
   ]
  },
  {
   "cell_type": "code",
   "execution_count": 5,
   "id": "28ce4538",
   "metadata": {},
   "outputs": [
    {
     "data": {
      "text/plain": [
       "'00001'"
      ]
     },
     "execution_count": 5,
     "metadata": {},
     "output_type": "execute_result"
    }
   ],
   "source": [
    "### 빈 공간에 0값 넣기\n",
    "\"1\".zfill(5)"
   ]
  },
  {
   "cell_type": "code",
   "execution_count": 3,
   "id": "0b56d4ac",
   "metadata": {},
   "outputs": [
    {
     "data": {
      "text/plain": [
       "'0lellamarz'"
      ]
     },
     "execution_count": 3,
     "metadata": {},
     "output_type": "execute_result"
    }
   ],
   "source": [
    "ss = \"lellamarz\"\n",
    "ss.zfill(10)"
   ]
  },
  {
   "cell_type": "code",
   "execution_count": 7,
   "id": "46383c6c",
   "metadata": {},
   "outputs": [
    {
     "name": "stdout",
     "output_type": "stream",
     "text": [
      "2023-01-03\n"
     ]
    }
   ],
   "source": [
    "y = 2023\n",
    "m = 1\n",
    "d = 3\n",
    "print(\"{}-{}-{}\".format(y, str(m).zfill(2), str(d).zfill(2)))"
   ]
  },
  {
   "cell_type": "code",
   "execution_count": 9,
   "id": "9d4f45e8",
   "metadata": {},
   "outputs": [
    {
     "name": "stdout",
     "output_type": "stream",
     "text": [
      "2010-01\n",
      "2010-02\n",
      "2010-03\n",
      "2010-04\n",
      "2010-05\n",
      "2010-06\n",
      "2010-07\n",
      "2010-08\n",
      "2010-09\n",
      "2010-10\n",
      "2010-11\n",
      "2010-12\n",
      "2011-01\n",
      "2011-02\n",
      "2011-03\n",
      "2011-04\n",
      "2011-05\n",
      "2011-06\n",
      "2011-07\n",
      "2011-08\n",
      "2011-09\n",
      "2011-10\n",
      "2011-11\n",
      "2011-12\n",
      "2012-01\n",
      "2012-02\n",
      "2012-03\n",
      "2012-04\n",
      "2012-05\n",
      "2012-06\n",
      "2012-07\n",
      "2012-08\n",
      "2012-09\n",
      "2012-10\n",
      "2012-11\n",
      "2012-12\n",
      "2013-01\n",
      "2013-02\n",
      "2013-03\n",
      "2013-04\n",
      "2013-05\n",
      "2013-06\n",
      "2013-07\n",
      "2013-08\n",
      "2013-09\n",
      "2013-10\n",
      "2013-11\n",
      "2013-12\n",
      "2014-01\n",
      "2014-02\n",
      "2014-03\n",
      "2014-04\n",
      "2014-05\n",
      "2014-06\n",
      "2014-07\n",
      "2014-08\n",
      "2014-09\n",
      "2014-10\n",
      "2014-11\n",
      "2014-12\n",
      "2015-01\n",
      "2015-02\n",
      "2015-03\n",
      "2015-04\n",
      "2015-05\n",
      "2015-06\n",
      "2015-07\n",
      "2015-08\n",
      "2015-09\n",
      "2015-10\n",
      "2015-11\n",
      "2015-12\n",
      "2016-01\n",
      "2016-02\n",
      "2016-03\n",
      "2016-04\n",
      "2016-05\n",
      "2016-06\n",
      "2016-07\n",
      "2016-08\n",
      "2016-09\n",
      "2016-10\n",
      "2016-11\n",
      "2016-12\n",
      "2017-01\n",
      "2017-02\n",
      "2017-03\n",
      "2017-04\n",
      "2017-05\n",
      "2017-06\n",
      "2017-07\n",
      "2017-08\n",
      "2017-09\n",
      "2017-10\n",
      "2017-11\n",
      "2017-12\n",
      "2018-01\n",
      "2018-02\n",
      "2018-03\n",
      "2018-04\n",
      "2018-05\n",
      "2018-06\n",
      "2018-07\n",
      "2018-08\n",
      "2018-09\n",
      "2018-10\n",
      "2018-11\n",
      "2018-12\n",
      "2019-01\n",
      "2019-02\n",
      "2019-03\n",
      "2019-04\n",
      "2019-05\n",
      "2019-06\n",
      "2019-07\n",
      "2019-08\n",
      "2019-09\n",
      "2019-10\n",
      "2019-11\n",
      "2019-12\n",
      "2020-01\n",
      "2020-02\n",
      "2020-03\n",
      "2020-04\n",
      "2020-05\n",
      "2020-06\n",
      "2020-07\n",
      "2020-08\n",
      "2020-09\n",
      "2020-10\n",
      "2020-11\n",
      "2020-12\n",
      "2021-01\n",
      "2021-02\n",
      "2021-03\n",
      "2021-04\n",
      "2021-05\n",
      "2021-06\n",
      "2021-07\n",
      "2021-08\n",
      "2021-09\n",
      "2021-10\n",
      "2021-11\n",
      "2021-12\n",
      "2022-01\n",
      "2022-02\n",
      "2022-03\n",
      "2022-04\n",
      "2022-05\n",
      "2022-06\n",
      "2022-07\n",
      "2022-08\n",
      "2022-09\n",
      "2022-10\n",
      "2022-11\n",
      "2022-12\n"
     ]
    }
   ],
   "source": [
    "###[문제]\n",
    "# 2010년 1월부터 2022년 12월까지 년-월(0000-00) 출력\n",
    "for i in range(2010, 2023):\n",
    "    for j in range(1, 13):\n",
    "        print(\"{}-{}\".format(i, str(j).zfill(2)))"
   ]
  },
  {
   "cell_type": "code",
   "execution_count": 15,
   "id": "b1d7e323",
   "metadata": {},
   "outputs": [
    {
     "name": "stdout",
     "output_type": "stream",
     "text": [
      "2010-02\n",
      "2010-04\n",
      "2010-06\n",
      "2010-08\n",
      "2010-10\n",
      "2010-12\n",
      "2012-02\n",
      "2012-04\n",
      "2012-06\n",
      "2012-08\n",
      "2012-10\n",
      "2012-12\n",
      "2014-02\n",
      "2014-04\n",
      "2014-06\n",
      "2014-08\n",
      "2014-10\n",
      "2014-12\n",
      "2016-02\n",
      "2016-04\n",
      "2016-06\n",
      "2016-08\n",
      "2016-10\n",
      "2016-12\n",
      "2018-02\n",
      "2018-04\n",
      "2018-06\n",
      "2018-08\n",
      "2018-10\n",
      "2018-12\n",
      "2020-02\n",
      "2020-04\n",
      "2020-06\n",
      "2020-08\n",
      "2020-10\n",
      "2020-12\n",
      "2022-02\n",
      "2022-04\n",
      "2022-06\n",
      "2022-08\n",
      "2022-10\n",
      "2022-12\n"
     ]
    }
   ],
   "source": [
    "###[문제]\n",
    "# 2010년 1월부터 2022년 12월까지 년-월(0000-00) 출력\n",
    "# 단, 짝수 년도와 짝수 월에 대해서만 출력\n",
    "for i in range(2010, 2023, 2):\n",
    "    for j in range(2, 13, 2):\n",
    "        print(\"{}-{}\".format(i, str(j).zfill(2)))"
   ]
  },
  {
   "cell_type": "code",
   "execution_count": 18,
   "id": "3b749724",
   "metadata": {},
   "outputs": [
    {
     "name": "stdout",
     "output_type": "stream",
     "text": [
      "2010-02\n",
      "2010-04\n",
      "2010-06\n",
      "2010-08\n",
      "2010-10\n",
      "2010-12\n",
      "2012-02\n",
      "2012-04\n",
      "2012-06\n",
      "2012-08\n",
      "2012-10\n",
      "2012-12\n",
      "2014-02\n",
      "2014-04\n",
      "2014-06\n",
      "2014-08\n",
      "2014-10\n",
      "2014-12\n",
      "2016-02\n",
      "2016-04\n",
      "2016-06\n",
      "2016-08\n",
      "2016-10\n",
      "2016-12\n",
      "2018-02\n",
      "2018-04\n",
      "2018-06\n",
      "2018-08\n",
      "2018-10\n",
      "2018-12\n",
      "2020-02\n",
      "2020-04\n",
      "2020-06\n",
      "2020-08\n",
      "2020-10\n",
      "2020-12\n",
      "2022-02\n",
      "2022-04\n",
      "2022-06\n",
      "2022-08\n",
      "2022-10\n",
      "2022-12\n"
     ]
    }
   ],
   "source": [
    "for i in range(2010, 2023):\n",
    "    if (i%2 != 0):\n",
    "        continue\n",
    "    for j in range(1, 13):\n",
    "        if (j%2 == 0):\n",
    "            print(\"{}-{}\".format(i, str(j).zfill(2)))"
   ]
  },
  {
   "cell_type": "markdown",
   "id": "3860c5e5",
   "metadata": {},
   "source": [
    "### 다중 for문 활용시 항상 시간복잡도 고려해야함"
   ]
  },
  {
   "cell_type": "code",
   "execution_count": 27,
   "id": "9c32e103",
   "metadata": {},
   "outputs": [
    {
     "name": "stdout",
     "output_type": "stream",
     "text": [
      "안\n",
      "녕\n",
      "하\n",
      "세\n",
      "요\n",
      ".\n",
      " \n",
      "파\n",
      "이\n",
      "썬\n",
      " \n",
      "입\n",
      "니\n",
      "다\n",
      ".\n"
     ]
    }
   ],
   "source": [
    "message = \"안녕하세요. 파이썬 입니다.\"\n",
    "# for문으로 message문자열의 하나 하나의 값을 출력\n",
    "for i in range(0, len(message)):\n",
    "    print(message[i])"
   ]
  },
  {
   "cell_type": "markdown",
   "id": "02ad78f8",
   "metadata": {},
   "source": [
    "### replace(바꿀 값, 대체 값) "
   ]
  },
  {
   "cell_type": "code",
   "execution_count": 32,
   "id": "dcf941ce",
   "metadata": {},
   "outputs": [
    {
     "name": "stdout",
     "output_type": "stream",
     "text": [
      "안녕하세요. 파이썬 입니다. \n",
      " 안녕하세요.파이썬입니다.\n"
     ]
    }
   ],
   "source": [
    "### 문자열 값 변환\n",
    "message_new = message.replace(\" \", \"\")\n",
    "print(message,\"\\n\", message_new)"
   ]
  },
  {
   "cell_type": "markdown",
   "id": "9b649c77",
   "metadata": {},
   "source": [
    "# 리스트[]"
   ]
  },
  {
   "cell_type": "code",
   "execution_count": 4,
   "id": "ea8db1b0",
   "metadata": {},
   "outputs": [
    {
     "name": "stdout",
     "output_type": "stream",
     "text": [
      "[11, 22, 33, 44, 55, 66, 'a', 'b', 'abc', 1.2, 1.3] 33\n",
      "a\n"
     ]
    }
   ],
   "source": [
    "# 리스트 변수 생성하기\n",
    "# 리스트는 리스트 길이만큼의 메모리 공간에 각 값들이 들어감\n",
    "# 문자열도 하나의 공간안에 값으로 저장됨\n",
    "n_list = [11, 22, 33, 44, 55, 66, \"a\", \"b\", \"abc\", 1.2, 1.3]\n",
    "print(n_list, n_list[2])\n",
    "print(n_list[8][0])"
   ]
  },
  {
   "cell_type": "markdown",
   "id": "4e95b67a",
   "metadata": {},
   "source": [
    "### append(): 리스트에 값 추가"
   ]
  },
  {
   "cell_type": "code",
   "execution_count": 44,
   "id": "105061ba",
   "metadata": {},
   "outputs": [
    {
     "name": "stdout",
     "output_type": "stream",
     "text": [
      "[11, 22, 33, 44, 55, 66, 'a', 'b', 'abc', 1.2, 1.3, '추가']\n"
     ]
    }
   ],
   "source": [
    "n_list.append(\"추가\")\n",
    "print(n_list)"
   ]
  },
  {
   "cell_type": "code",
   "execution_count": 5,
   "id": "910e0ad0",
   "metadata": {},
   "outputs": [
    {
     "ename": "AttributeError",
     "evalue": "'str' object has no attribute 'append'",
     "output_type": "error",
     "traceback": [
      "\u001b[1;31m---------------------------------------------------------------------------\u001b[0m",
      "\u001b[1;31mAttributeError\u001b[0m                            Traceback (most recent call last)",
      "\u001b[1;32m~\\AppData\\Local\\Temp\\ipykernel_19120\\2914091060.py\u001b[0m in \u001b[0;36m<module>\u001b[1;34m\u001b[0m\n\u001b[1;32m----> 1\u001b[1;33m \u001b[1;34m\"avc\"\u001b[0m\u001b[1;33m.\u001b[0m\u001b[0mappend\u001b[0m\u001b[1;33m(\u001b[0m\u001b[1;34m\"ddd\"\u001b[0m\u001b[1;33m)\u001b[0m\u001b[1;33m\u001b[0m\u001b[1;33m\u001b[0m\u001b[0m\n\u001b[0m",
      "\u001b[1;31mAttributeError\u001b[0m: 'str' object has no attribute 'append'"
     ]
    }
   ],
   "source": [
    "\"avc\".append(\"ddd\")"
   ]
  },
  {
   "cell_type": "markdown",
   "id": "1f3beb36",
   "metadata": {},
   "source": [
    "## for문을 사용하는 방식 1\n",
    ": 인덱스 값을 이용하는 방식"
   ]
  },
  {
   "cell_type": "code",
   "execution_count": 45,
   "id": "671fcf5c",
   "metadata": {},
   "outputs": [
    {
     "name": "stdout",
     "output_type": "stream",
     "text": [
      "11\n",
      "22\n",
      "33\n",
      "44\n",
      "55\n",
      "66\n",
      "a\n",
      "b\n",
      "abc\n",
      "1.2\n",
      "1.3\n",
      "추가\n"
     ]
    }
   ],
   "source": [
    "for i in range(0, len(n_list)):\n",
    "    print(n_list[i])"
   ]
  },
  {
   "cell_type": "markdown",
   "id": "3282f3f0",
   "metadata": {},
   "source": [
    "## for문을 사용하는 방식 2\n",
    ": 리스트 내에 있는 값을 이용하는 방식"
   ]
  },
  {
   "cell_type": "code",
   "execution_count": 46,
   "id": "d418c5ae",
   "metadata": {},
   "outputs": [
    {
     "name": "stdout",
     "output_type": "stream",
     "text": [
      "11\n",
      "22\n",
      "33\n",
      "44\n",
      "55\n",
      "66\n",
      "a\n",
      "b\n",
      "abc\n",
      "1.2\n",
      "1.3\n",
      "추가\n"
     ]
    }
   ],
   "source": [
    "for val in n_list:\n",
    "    print(val)"
   ]
  },
  {
   "cell_type": "code",
   "execution_count": 52,
   "id": "db62df2c",
   "metadata": {},
   "outputs": [
    {
     "name": "stdout",
     "output_type": "stream",
     "text": [
      "[10, 30, 50, 60, 70, 80, 90, 100]\n"
     ]
    }
   ],
   "source": [
    "# [문제]\n",
    "# a_list의 값들 중 짝수인 것들만 temp_listdp 넣기\n",
    "# 마지막에 temp_list값 출력\n",
    "a_list = [10, 23, 30, 45, 50, 60, 70, 80, 90, 100]\n",
    "temp_list = []\n",
    "\n",
    "for num in a_list:\n",
    "    if num%2==0:\n",
    "        temp_list.append(num)\n",
    "print(temp_list)"
   ]
  },
  {
   "cell_type": "code",
   "execution_count": 53,
   "id": "d509dd8b",
   "metadata": {},
   "outputs": [
    {
     "name": "stdout",
     "output_type": "stream",
     "text": [
      "[10, 30, 50, 60, 70, 80, 90, 100]\n"
     ]
    }
   ],
   "source": [
    "a_list = [10, 23, 30, 45, 50, 60, 70, 80, 90, 100]\n",
    "temp_list = []\n",
    "for i in range(0, len(a_list), 1):\n",
    "    if a_list[i]%2==0:\n",
    "        num = a_list[i]\n",
    "        temp_list.append(num)\n",
    "print(temp_list)"
   ]
  },
  {
   "cell_type": "code",
   "execution_count": 61,
   "id": "5dc3696c",
   "metadata": {},
   "outputs": [
    {
     "name": "stdout",
     "output_type": "stream",
     "text": [
      "[10, 23, 30, 45, 50, 60, 70, 80, 90, 100, 10, 30, 50, 60, 70, 80, 90, 100]\n",
      "[10, 23, 30, 45, 50, 60, 70, 80, 90, 100, 10, 23, 30, 45, 50, 60, 70, 80, 90, 100]\n"
     ]
    },
    {
     "ename": "TypeError",
     "evalue": "unsupported operand type(s) for -: 'list' and 'int'",
     "output_type": "error",
     "traceback": [
      "\u001b[1;31m---------------------------------------------------------------------------\u001b[0m",
      "\u001b[1;31mTypeError\u001b[0m                                 Traceback (most recent call last)",
      "\u001b[1;32m~\\AppData\\Local\\Temp\\ipykernel_656\\2876501752.py\u001b[0m in \u001b[0;36m<module>\u001b[1;34m\u001b[0m\n\u001b[0;32m      6\u001b[0m \u001b[0mprint\u001b[0m\u001b[1;33m(\u001b[0m\u001b[0ma_list\u001b[0m \u001b[1;33m*\u001b[0m \u001b[1;36m2\u001b[0m\u001b[1;33m)\u001b[0m\u001b[1;33m\u001b[0m\u001b[1;33m\u001b[0m\u001b[0m\n\u001b[0;32m      7\u001b[0m \u001b[1;31m# a_list를 2번 반복\u001b[0m\u001b[1;33m\u001b[0m\u001b[1;33m\u001b[0m\u001b[1;33m\u001b[0m\u001b[0m\n\u001b[1;32m----> 8\u001b[1;33m \u001b[0mprint\u001b[0m\u001b[1;33m(\u001b[0m\u001b[0ma_list\u001b[0m \u001b[1;33m-\u001b[0m \u001b[1;36m2\u001b[0m\u001b[1;33m)\u001b[0m\u001b[1;33m\u001b[0m\u001b[1;33m\u001b[0m\u001b[0m\n\u001b[0m",
      "\u001b[1;31mTypeError\u001b[0m: unsupported operand type(s) for -: 'list' and 'int'"
     ]
    }
   ],
   "source": [
    "print(a_list + temp_list)\n",
    "# 산술 연산 아님\n",
    "# print(a_list - temp_list) --> TypeError\n",
    "# print(a_list / temp_list) --> TypeError\n",
    "# print(a_list * temp_list) --> TypeError\n",
    "print(a_list * 2)\n",
    "# a_list를 2번 반복\n",
    "# print(a_list - 2)"
   ]
  },
  {
   "cell_type": "code",
   "execution_count": 71,
   "id": "06eb83da",
   "metadata": {},
   "outputs": [
    {
     "ename": "TypeError",
     "evalue": "can only concatenate list (not \"str\") to list",
     "output_type": "error",
     "traceback": [
      "\u001b[1;31m---------------------------------------------------------------------------\u001b[0m",
      "\u001b[1;31mTypeError\u001b[0m                                 Traceback (most recent call last)",
      "\u001b[1;32m~\\AppData\\Local\\Temp\\ipykernel_656\\331587209.py\u001b[0m in \u001b[0;36m<module>\u001b[1;34m\u001b[0m\n\u001b[0;32m     12\u001b[0m \u001b[1;31m#         temp_list.append(val)\u001b[0m\u001b[1;33m\u001b[0m\u001b[1;33m\u001b[0m\u001b[1;33m\u001b[0m\u001b[0m\n\u001b[0;32m     13\u001b[0m \u001b[1;31m# print(temp_list)\u001b[0m\u001b[1;33m\u001b[0m\u001b[1;33m\u001b[0m\u001b[1;33m\u001b[0m\u001b[0m\n\u001b[1;32m---> 14\u001b[1;33m \u001b[0msum\u001b[0m\u001b[1;33m(\u001b[0m\u001b[0mnew_list\u001b[0m\u001b[1;33m,\u001b[0m \u001b[1;33m[\u001b[0m\u001b[1;33m]\u001b[0m\u001b[1;33m)\u001b[0m\u001b[1;33m\u001b[0m\u001b[1;33m\u001b[0m\u001b[0m\n\u001b[0m",
      "\u001b[1;31mTypeError\u001b[0m: can only concatenate list (not \"str\") to list"
     ]
    }
   ],
   "source": [
    "new_list = [\"ㅎㄱㄷ\", 24, [\"부산\", \"부산진구\", \"대연동\", 124, [\"010-1234-5678\"]]]\n",
    "temp_list = []\n",
    "for val in new_list:\n",
    "    if type(val) == list:\n",
    "        for i in val:\n",
    "            if type(i) == list:\n",
    "                for j in i:\n",
    "                    temp_list.append(j)\n",
    "            else:\n",
    "                temp_list.append(i)\n",
    "    else:\n",
    "        temp_list.append(val)\n",
    "print(temp_list)"
   ]
  },
  {
   "cell_type": "code",
   "execution_count": 65,
   "id": "9ca0f106",
   "metadata": {},
   "outputs": [
    {
     "name": "stdout",
     "output_type": "stream",
     "text": [
      "[1, 2, 3, 4, 5, 'a', 'b', 'c', 'd', 'e', '홍', '김', '이', '최', '박']\n"
     ]
    }
   ],
   "source": [
    "a_list = [[1, 2, 3, 4, 5],\n",
    "         ['a', 'b', 'c', 'd', 'e'],\n",
    "         ['홍', '김', '이', '최', '박']]\n",
    "temp_list = []\n",
    "for val in a_list:\n",
    "    for x in val:\n",
    "        temp_list.append(x)\n",
    "print(temp_list)"
   ]
  },
  {
   "cell_type": "markdown",
   "id": "7ac581b9",
   "metadata": {},
   "source": [
    "# dictionary{}\n",
    "- {key: value, key: value, ...}\n",
    "- 키로 값 추출\n",
    "- 순서 없음\n",
    "- 가상 메모리 내부에 각 key-value 공간 할당\n",
    "- dictionary[key]: 해당 key의 value에 접근\n",
    "- dictionary[key][value index]: 해당 key의 value list의 index에 해당하는 값에 접근\n",
    "- 값 추가: dictionary[new key] = new value"
   ]
  },
  {
   "cell_type": "code",
   "execution_count": 109,
   "id": "056f3b09",
   "metadata": {},
   "outputs": [
    {
     "name": "stdout",
     "output_type": "stream",
     "text": [
      "숫자\n"
     ]
    }
   ],
   "source": [
    "person = {\"이름\":\"홍길동\", \n",
    "         \"나이\":20,\n",
    "         \"주소\":\"부산 대연동 768\",\n",
    "         1 : \"정수값\"}\n",
    "person[1] = \"숫자\"\n",
    "print(person[1])"
   ]
  },
  {
   "cell_type": "markdown",
   "id": "32a8aeeb",
   "metadata": {},
   "source": [
    "## key 추출\n",
    "### .keys(): key값들의 리스트"
   ]
  },
  {
   "cell_type": "code",
   "execution_count": 81,
   "id": "2de1a840",
   "metadata": {},
   "outputs": [
    {
     "data": {
      "text/plain": [
       "dict_keys(['이름', '나이', '주소', 1])"
      ]
     },
     "execution_count": 81,
     "metadata": {},
     "output_type": "execute_result"
    }
   ],
   "source": [
    "person.keys()"
   ]
  },
  {
   "cell_type": "markdown",
   "id": "e2aa78e1",
   "metadata": {},
   "source": [
    "## value 추출\n",
    "### .values(): value값들의 리스트"
   ]
  },
  {
   "cell_type": "code",
   "execution_count": 82,
   "id": "b5159d73",
   "metadata": {},
   "outputs": [
    {
     "data": {
      "text/plain": [
       "dict_values(['홍길동', 20, '부산 대연동 768', '정수값'])"
      ]
     },
     "execution_count": 82,
     "metadata": {},
     "output_type": "execute_result"
    }
   ],
   "source": [
    "person.values()"
   ]
  },
  {
   "cell_type": "markdown",
   "id": "2e47c9fa",
   "metadata": {},
   "source": [
    "## 둘다 추출\n",
    "### .items(): (key, value) tuple의 리스트"
   ]
  },
  {
   "cell_type": "code",
   "execution_count": 88,
   "id": "ebd2d08f",
   "metadata": {},
   "outputs": [
    {
     "data": {
      "text/plain": [
       "dict_items([('이름', '홍길동'), ('나이', 20), ('주소', '부산 대연동 768'), (1, '정수값')])"
      ]
     },
     "execution_count": 88,
     "metadata": {},
     "output_type": "execute_result"
    }
   ],
   "source": [
    "person.items()"
   ]
  },
  {
   "cell_type": "code",
   "execution_count": 98,
   "id": "f5710d62",
   "metadata": {},
   "outputs": [
    {
     "name": "stdout",
     "output_type": "stream",
     "text": [
      "dict_values([['a', 'b', 'c', 'd', 'e', 'f'], [1, 2, 3, 4, 5, 6]])\n"
     ]
    }
   ],
   "source": [
    "list_1 = ['a', 'b', 'c', 'd', 'e', 'f']\n",
    "list_2 = [1, 2, 3, 4, 5, 6]\n",
    "dict_1 = {\n",
    "    1: list_1,\n",
    "    2: list_2\n",
    "}     \n",
    "print(dict_1.values())"
   ]
  },
  {
   "cell_type": "code",
   "execution_count": 104,
   "id": "bad7b444",
   "metadata": {},
   "outputs": [
    {
     "name": "stdout",
     "output_type": "stream",
     "text": [
      "['a', 'b', 'c', 'd', 'e', 'f', 1, 2, 3, 4, 5, 6]\n"
     ]
    }
   ],
   "source": [
    "temp_list = []\n",
    "for val in dict_1.values():\n",
    "    for i in val:\n",
    "        temp_list.append(i)\n",
    "print(temp_list)"
   ]
  },
  {
   "cell_type": "code",
   "execution_count": 105,
   "id": "38fdecdb",
   "metadata": {},
   "outputs": [
    {
     "data": {
      "text/plain": [
       "['z', 'b', 'c', 'd', 'e', 'f', 1, 2, 3, 4, 5, 6]"
      ]
     },
     "execution_count": 105,
     "metadata": {},
     "output_type": "execute_result"
    }
   ],
   "source": [
    "temp_list[0] = 'z'\n",
    "temp_list"
   ]
  },
  {
   "cell_type": "code",
   "execution_count": 119,
   "id": "56c5bff2",
   "metadata": {},
   "outputs": [
    {
     "data": {
      "text/plain": [
       "{1: ['z', 'b', 'c', 'd', 'e', 'f'], 2: [1, 2, 3, 4, 5, 6], 3: 'value'}"
      ]
     },
     "execution_count": 119,
     "metadata": {},
     "output_type": "execute_result"
    }
   ],
   "source": [
    "dict_1[1][0] = 'z'\n",
    "dict_1[3] = \"value\"\n",
    "dict_1"
   ]
  },
  {
   "cell_type": "markdown",
   "id": "d77070a1",
   "metadata": {},
   "source": [
    "# 함수\n",
    "### 함수 작명\n",
    "- get...(): 값 가져올때\n",
    "- set...(): 값 저장할때\n",
    "- 매개변수: 함수를 호출하는 쪽에서 넘겨주는 값을 받을 변수\n",
    "\n",
    "### (lambda 매개변수: 표현식)(넘길 값)"
   ]
  },
  {
   "cell_type": "code",
   "execution_count": 121,
   "id": "1995c62c",
   "metadata": {},
   "outputs": [
    {
     "data": {
      "text/plain": [
       "3"
      ]
     },
     "execution_count": 121,
     "metadata": {},
     "output_type": "execute_result"
    }
   ],
   "source": [
    "def getHap(p_a, p_b):\n",
    "    return p_a + p_b\n",
    "\n",
    "getHap(1, 2)"
   ]
  },
  {
   "cell_type": "code",
   "execution_count": 124,
   "id": "a0dca96f",
   "metadata": {},
   "outputs": [
    {
     "data": {
      "text/plain": [
       "3"
      ]
     },
     "execution_count": 124,
     "metadata": {},
     "output_type": "execute_result"
    }
   ],
   "source": [
    "(lambda p_a, p_b: p_a + p_b)(1, 2)"
   ]
  },
  {
   "cell_type": "code",
   "execution_count": 130,
   "id": "e007eb70",
   "metadata": {},
   "outputs": [
    {
     "data": {
      "text/plain": [
       "-1"
      ]
     },
     "execution_count": 130,
     "metadata": {},
     "output_type": "execute_result"
    }
   ],
   "source": [
    "def getMath(p_a, p_b, mode=\"+\"):\n",
    "    if mode == \"+\":\n",
    "        result = p_a + p_b\n",
    "    elif mode == \"-\":\n",
    "        result = p_a - p_b\n",
    "    elif mode == \"*\":\n",
    "        result = p_a * p_b\n",
    "    elif mode == \"/\":\n",
    "        result = p_a - p_b\n",
    "    return result\n",
    "# result: 전역변수\n",
    "\n",
    "getMath(1, 2, \"-\")"
   ]
  },
  {
   "cell_type": "code",
   "execution_count": 1,
   "id": "c8dbb17c",
   "metadata": {},
   "outputs": [
    {
     "data": {
      "text/plain": [
       "[2, 4, 6, 8, 10, 12, 14, 16, 18]"
      ]
     },
     "execution_count": 1,
     "metadata": {},
     "output_type": "execute_result"
    }
   ],
   "source": [
    "def gugudan(dan):\n",
    "    gugu = []\n",
    "    if dan == 0:\n",
    "        for i in range(1, 10):\n",
    "            gugu.append(gugudan(i))\n",
    "    else:\n",
    "        for i in range(1, 10):\n",
    "            gugu.append(dan * i)\n",
    "            \n",
    "    return gugu\n",
    "\n",
    "gugudan(2)"
   ]
  },
  {
   "cell_type": "code",
   "execution_count": 157,
   "id": "7147c771",
   "metadata": {},
   "outputs": [
    {
     "name": "stdout",
     "output_type": "stream",
     "text": [
      "2 X 1 = 2\n",
      "2 X 2 = 4\n",
      "2 X 3 = 6\n",
      "2 X 4 = 8\n",
      "2 X 5 = 10\n",
      "2 X 6 = 12\n",
      "2 X 7 = 14\n",
      "2 X 8 = 16\n",
      "2 X 9 = 18\n",
      "3 X 1 = 3\n",
      "3 X 2 = 6\n",
      "3 X 3 = 9\n",
      "3 X 4 = 12\n",
      "3 X 5 = 15\n",
      "3 X 6 = 18\n",
      "3 X 7 = 21\n",
      "3 X 8 = 24\n",
      "3 X 9 = 27\n",
      "4 X 1 = 4\n",
      "4 X 2 = 8\n",
      "4 X 3 = 12\n",
      "4 X 4 = 16\n",
      "4 X 5 = 20\n",
      "4 X 6 = 24\n",
      "4 X 7 = 28\n",
      "4 X 8 = 32\n",
      "4 X 9 = 36\n",
      "5 X 1 = 5\n",
      "5 X 2 = 10\n",
      "5 X 3 = 15\n",
      "5 X 4 = 20\n",
      "5 X 5 = 25\n",
      "5 X 6 = 30\n",
      "5 X 7 = 35\n",
      "5 X 8 = 40\n",
      "5 X 9 = 45\n",
      "6 X 1 = 6\n",
      "6 X 2 = 12\n",
      "6 X 3 = 18\n",
      "6 X 4 = 24\n",
      "6 X 5 = 30\n",
      "6 X 6 = 36\n",
      "6 X 7 = 42\n",
      "6 X 8 = 48\n",
      "6 X 9 = 54\n",
      "7 X 1 = 7\n",
      "7 X 2 = 14\n",
      "7 X 3 = 21\n",
      "7 X 4 = 28\n",
      "7 X 5 = 35\n",
      "7 X 6 = 42\n",
      "7 X 7 = 49\n",
      "7 X 8 = 56\n",
      "7 X 9 = 63\n",
      "8 X 1 = 8\n",
      "8 X 2 = 16\n",
      "8 X 3 = 24\n",
      "8 X 4 = 32\n",
      "8 X 5 = 40\n",
      "8 X 6 = 48\n",
      "8 X 7 = 56\n",
      "8 X 8 = 64\n",
      "8 X 9 = 72\n",
      "9 X 1 = 9\n",
      "9 X 2 = 18\n",
      "9 X 3 = 27\n",
      "9 X 4 = 36\n",
      "9 X 5 = 45\n",
      "9 X 6 = 54\n",
      "9 X 7 = 63\n",
      "9 X 8 = 72\n",
      "9 X 9 = 81\n"
     ]
    }
   ],
   "source": [
    "def gugudan2(dan):\n",
    "    start_dan = dan\n",
    "    end_dan = dan + 1\n",
    "    \n",
    "    if dan == 0:\n",
    "        start_dan = 2\n",
    "        end_dan = 10\n",
    "        \n",
    "    for i in range(start_dan, end_dan):\n",
    "        for j in range(1, 10):\n",
    "            print(\"{} X {} = {}\".format(i, j, i * j))\n",
    "            \n",
    "gugudan2(0)"
   ]
  },
  {
   "cell_type": "markdown",
   "id": "c002efa0",
   "metadata": {},
   "source": [
    "# class\n",
    "- .: 접근 지정자, 생성된 개체가 class가있는 가상 메모리에 접근\n",
    "- self.~: 멤버변수, class내 전역변수 역할"
   ]
  },
  {
   "cell_type": "code",
   "execution_count": 10,
   "id": "2bd710d3",
   "metadata": {},
   "outputs": [],
   "source": [
    "class MathClass:\n",
    "    def getHap(self, num1, num2):\n",
    "        s = num1 + num2\n",
    "        return s\n",
    "    def getMinus(self, num1, num2):\n",
    "        s = num1 - num2\n",
    "        return s\n",
    "    def getGop(self, num1, num2):\n",
    "        s = num1 * num2\n",
    "        return s\n",
    "    def getDiv(self, num1, num2):\n",
    "        s = num1 / num2\n",
    "        return s\n",
    "    def getNamuge(self, num1, num2):\n",
    "        s = num1 % num2\n",
    "        return s"
   ]
  },
  {
   "cell_type": "code",
   "execution_count": 15,
   "id": "1f22fea1",
   "metadata": {},
   "outputs": [
    {
     "name": "stdout",
     "output_type": "stream",
     "text": [
      "2\n",
      "2\n"
     ]
    },
    {
     "data": {
      "text/plain": [
       "14"
      ]
     },
     "execution_count": 15,
     "metadata": {},
     "output_type": "execute_result"
    }
   ],
   "source": [
    "cal = MathClass()\n",
    "print(cal.getGop(1, 2))\n",
    "print(cal.getNamuge(2, 4))\n",
    "cal.getHap(11, 3)"
   ]
  },
  {
   "cell_type": "code",
   "execution_count": 1,
   "id": "50cb9d0c",
   "metadata": {},
   "outputs": [
    {
     "name": "stdout",
     "output_type": "stream",
     "text": [
      "1 2\n",
      "1 2 3\n"
     ]
    }
   ],
   "source": [
    "import cs_module as cs\n",
    "\n",
    "x, y = map(int, input().split())\n",
    "uu = cs.User_Util(x, y)\n",
    "print(uu.a, uu.b, uu.getPlus())"
   ]
  },
  {
   "cell_type": "markdown",
   "id": "30f1d1cd",
   "metadata": {},
   "source": [
    "# 패키지 접근\n",
    "- 패키지: 모듈들을 폴더 단위로 관리\n",
    "### from 폴더명 import 모듈명 as 축약어"
   ]
  },
  {
   "cell_type": "code",
   "execution_count": 3,
   "id": "1b02d65e",
   "metadata": {},
   "outputs": [
    {
     "data": {
      "text/plain": [
       "3"
      ]
     },
     "execution_count": 3,
     "metadata": {},
     "output_type": "execute_result"
    }
   ],
   "source": [
    "from utils import fn_module as fn\n",
    "fn_util = fn.User_Util(1, 2)\n",
    "fn_util.getPlus()"
   ]
  }
 ],
 "metadata": {
  "kernelspec": {
   "display_name": "Python 3 (ipykernel)",
   "language": "python",
   "name": "python3"
  },
  "language_info": {
   "codemirror_mode": {
    "name": "ipython",
    "version": 3
   },
   "file_extension": ".py",
   "mimetype": "text/x-python",
   "name": "python",
   "nbconvert_exporter": "python",
   "pygments_lexer": "ipython3",
   "version": "3.8.15"
  }
 },
 "nbformat": 4,
 "nbformat_minor": 5
}
