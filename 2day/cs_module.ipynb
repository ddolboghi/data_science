{
 "cells": [
  {
   "cell_type": "code",
   "execution_count": 1,
   "id": "6e2b956b",
   "metadata": {},
   "outputs": [],
   "source": [
    "class User_Util:\n",
    "    # 생성자 만들기\n",
    "    def __init__(self, p_a, p_b):\n",
    "        # 멤버 변수 정의\n",
    "        self.a = p_a\n",
    "        self.b = p_b\n",
    "        \n",
    "    def getPlus(self):\n",
    "        return self.a + self.b"
   ]
  }
 ],
 "metadata": {
  "kernelspec": {
   "display_name": "Python 3 (ipykernel)",
   "language": "python",
   "name": "python3"
  },
  "language_info": {
   "codemirror_mode": {
    "name": "ipython",
    "version": 3
   },
   "file_extension": ".py",
   "mimetype": "text/x-python",
   "name": "python",
   "nbconvert_exporter": "python",
   "pygments_lexer": "ipython3",
   "version": "3.8.15"
  }
 },
 "nbformat": 4,
 "nbformat_minor": 5
}
