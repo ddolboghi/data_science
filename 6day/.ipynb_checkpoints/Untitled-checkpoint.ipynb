{
 "cells": [
  {
   "cell_type": "code",
   "execution_count": 96,
   "id": "4d2de3b3",
   "metadata": {},
   "outputs": [
    {
     "name": "stdout",
     "output_type": "stream",
     "text": [
      "1 1 1\n",
      "11000\n",
      "11\n",
      "[' ', ' '] 1 1 1\n"
     ]
    }
   ],
   "source": [
    "*_, a, b, c = sorted(input())\n",
    "print(['1'+b, c][a<b<c]+'000'[a<c:])\n",
    "print(['1'+b, c][a<b<c])\n",
    "print(_, a, b, c)"
   ]
  },
  {
   "cell_type": "code",
   "execution_count": 95,
   "id": "e23111ce",
   "metadata": {},
   "outputs": [
    {
     "data": {
      "text/plain": [
       "[1, 2, 3, 4]"
      ]
     },
     "execution_count": 95,
     "metadata": {},
     "output_type": "execute_result"
    }
   ],
   "source": [
    "[1, 2,3,4][0>3:]"
   ]
  },
  {
   "cell_type": "code",
   "execution_count": 42,
   "id": "98889745",
   "metadata": {},
   "outputs": [
    {
     "name": "stdout",
     "output_type": "stream",
     "text": [
      "1 2 3\n",
      "[] {1, 2, 3}\n"
     ]
    }
   ],
   "source": [
    "a, b, c = map(int, input().split())\n",
    "arr = [a, b, c]\n",
    "visited = set()\n",
    "dup = [x for x in arr if x in visited or visited.add(x)]\n",
    "# or (visited.add(x) or False)\n",
    "print(dup, visited)"
   ]
  }
 ],
 "metadata": {
  "kernelspec": {
   "display_name": "pknu_base_kernel",
   "language": "python",
   "name": "pknu_base"
  },
  "language_info": {
   "codemirror_mode": {
    "name": "ipython",
    "version": 3
   },
   "file_extension": ".py",
   "mimetype": "text/x-python",
   "name": "python",
   "nbconvert_exporter": "python",
   "pygments_lexer": "ipython3",
   "version": "3.9.15"
  }
 },
 "nbformat": 4,
 "nbformat_minor": 5
}
