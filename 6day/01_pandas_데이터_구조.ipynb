{
 "cells": [
  {
   "cell_type": "code",
   "execution_count": 6,
   "id": "857565a1",
   "metadata": {},
   "outputs": [
    {
     "data": {
      "application/javascript": [
       "IPython.notebook.set_autosave_interval(0)"
      ]
     },
     "metadata": {},
     "output_type": "display_data"
    },
    {
     "name": "stdout",
     "output_type": "stream",
     "text": [
      "Autosave disabled\n"
     ]
    }
   ],
   "source": [
    "%autosave 0"
   ]
  },
  {
   "cell_type": "code",
   "execution_count": 2,
   "id": "f454ddd8",
   "metadata": {},
   "outputs": [],
   "source": [
    "import pandas as pd"
   ]
  },
  {
   "cell_type": "markdown",
   "id": "1fb3361b",
   "metadata": {},
   "source": [
    "# pandas 데이터 구조-series\n",
    "- 인덱스와 값만 있고 <b>컬럼명이 없음<b>\n",
    "- DataFrame의 각 컬럼은 모두 Series"
   ]
  },
  {
   "cell_type": "code",
   "execution_count": 5,
   "id": "578bec49",
   "metadata": {},
   "outputs": [
    {
     "data": {
      "text/plain": [
       "0       Doc\n",
       "1       Cat\n",
       "2     Tiger\n",
       "3      Lion\n",
       "4    Monkey\n",
       "dtype: object"
      ]
     },
     "execution_count": 5,
     "metadata": {},
     "output_type": "execute_result"
    }
   ],
   "source": [
    "# 리스트 -> series데이터 생성하기\n",
    "# 리스트는 이미 존재하는 인덱스 번호를 인덱스로 사용\n",
    "sd1 = pd.Series([\"Doc\", \"Cat\", \"Tiger\", \"Lion\", \"Monkey\"],\n",
    "               index = [0,1,2,3,4])\n",
    "sd1"
   ]
  },
  {
   "cell_type": "code",
   "execution_count": 11,
   "id": "ae3f92e7",
   "metadata": {},
   "outputs": [
    {
     "name": "stdout",
     "output_type": "stream",
     "text": [
      "type:  <class 'pandas.core.series.Series'>\n"
     ]
    }
   ],
   "source": [
    "# dict -> series\n",
    "# dict의 key값을 인덱스로 사용\n",
    "dict_data = {0:\"Doc\", 11:\"Cat\", 2:\"Tiger\", 3:\"Lion\", 4:\"Monkey\"}\n",
    "sd2 = pd.Series(dict_data)\n",
    "print(\"type: \", type(sd2))"
   ]
  },
  {
   "cell_type": "code",
   "execution_count": 12,
   "id": "ae0a7c5b",
   "metadata": {},
   "outputs": [
    {
     "data": {
      "text/plain": [
       "0      Dog\n",
       "1      Cat\n",
       "2    Tiger\n",
       "dtype: object"
      ]
     },
     "execution_count": 12,
     "metadata": {},
     "output_type": "execute_result"
    }
   ],
   "source": [
    "list_data = [\"Dog\", \"Cat\", \"Tiger\"]\n",
    "sd3 = pd.Series(list_data)\n",
    "sd3"
   ]
  },
  {
   "cell_type": "code",
   "execution_count": 15,
   "id": "76b5a9f9",
   "metadata": {},
   "outputs": [
    {
     "data": {
      "text/plain": [
       "0      Dog\n",
       "1      Cat\n",
       "2    Tiger\n",
       "dtype: object"
      ]
     },
     "execution_count": 15,
     "metadata": {},
     "output_type": "execute_result"
    }
   ],
   "source": [
    "# tuple -> series\n",
    "# 리스트와 마찬가지로, tuple 자체가 가진 인덱스를 그대로 사용\n",
    "tup_data = (\"Dog\", \"Cat\", \"Tiger\")\n",
    "\n",
    "sd4 = pd.Series(tup_data)\n",
    "sd4"
   ]
  },
  {
   "cell_type": "markdown",
   "id": "39a7651a",
   "metadata": {},
   "source": [
    "# DataFrame 생성하기"
   ]
  },
  {
   "cell_type": "code",
   "execution_count": 17,
   "id": "754ddbcf",
   "metadata": {},
   "outputs": [
    {
     "data": {
      "text/html": [
       "<div>\n",
       "<style scoped>\n",
       "    .dataframe tbody tr th:only-of-type {\n",
       "        vertical-align: middle;\n",
       "    }\n",
       "\n",
       "    .dataframe tbody tr th {\n",
       "        vertical-align: top;\n",
       "    }\n",
       "\n",
       "    .dataframe thead th {\n",
       "        text-align: right;\n",
       "    }\n",
       "</style>\n",
       "<table border=\"1\" class=\"dataframe\">\n",
       "  <thead>\n",
       "    <tr style=\"text-align: right;\">\n",
       "      <th></th>\n",
       "      <th>동물</th>\n",
       "      <th>나이</th>\n",
       "    </tr>\n",
       "  </thead>\n",
       "  <tbody>\n",
       "    <tr>\n",
       "      <th>0</th>\n",
       "      <td>Dog</td>\n",
       "      <td>7</td>\n",
       "    </tr>\n",
       "    <tr>\n",
       "      <th>1</th>\n",
       "      <td>Cat</td>\n",
       "      <td>9</td>\n",
       "    </tr>\n",
       "    <tr>\n",
       "      <th>2</th>\n",
       "      <td>Tiger</td>\n",
       "      <td>2</td>\n",
       "    </tr>\n",
       "    <tr>\n",
       "      <th>3</th>\n",
       "      <td>Lion</td>\n",
       "      <td>3</td>\n",
       "    </tr>\n",
       "    <tr>\n",
       "      <th>4</th>\n",
       "      <td>Monkey</td>\n",
       "      <td>1</td>\n",
       "    </tr>\n",
       "  </tbody>\n",
       "</table>\n",
       "</div>"
      ],
      "text/plain": [
       "       동물  나이\n",
       "0     Dog   7\n",
       "1     Cat   9\n",
       "2   Tiger   2\n",
       "3    Lion   3\n",
       "4  Monkey   1"
      ]
     },
     "execution_count": 17,
     "metadata": {},
     "output_type": "execute_result"
    }
   ],
   "source": [
    "# dictionary -> df\n",
    "# key = df의 컬럼명\n",
    "# value = 리스트\n",
    "# 모든 value값들의 개수가 동일해야함\n",
    "dict_data = {\"동물\": [\"Dog\", \"Cat\", \"Tiger\", \"Lion\", \"Monkey\"],\n",
    "            \"나이\": [7,9,2,3,1]}\n",
    "df1 = pd.DataFrame(dict_data)\n",
    "df1"
   ]
  },
  {
   "cell_type": "code",
   "execution_count": 19,
   "id": "37ebfb81",
   "metadata": {},
   "outputs": [
    {
     "data": {
      "text/html": [
       "<div>\n",
       "<style scoped>\n",
       "    .dataframe tbody tr th:only-of-type {\n",
       "        vertical-align: middle;\n",
       "    }\n",
       "\n",
       "    .dataframe tbody tr th {\n",
       "        vertical-align: top;\n",
       "    }\n",
       "\n",
       "    .dataframe thead th {\n",
       "        text-align: right;\n",
       "    }\n",
       "</style>\n",
       "<table border=\"1\" class=\"dataframe\">\n",
       "  <thead>\n",
       "    <tr style=\"text-align: right;\">\n",
       "      <th></th>\n",
       "      <th>0</th>\n",
       "      <th>1</th>\n",
       "    </tr>\n",
       "  </thead>\n",
       "  <tbody>\n",
       "    <tr>\n",
       "      <th>0</th>\n",
       "      <td>Dog</td>\n",
       "      <td>7</td>\n",
       "    </tr>\n",
       "    <tr>\n",
       "      <th>1</th>\n",
       "      <td>Cat</td>\n",
       "      <td>9</td>\n",
       "    </tr>\n",
       "    <tr>\n",
       "      <th>2</th>\n",
       "      <td>Tiger</td>\n",
       "      <td>2</td>\n",
       "    </tr>\n",
       "    <tr>\n",
       "      <th>3</th>\n",
       "      <td>Lion</td>\n",
       "      <td>3</td>\n",
       "    </tr>\n",
       "    <tr>\n",
       "      <th>4</th>\n",
       "      <td>Monkey</td>\n",
       "      <td>1</td>\n",
       "    </tr>\n",
       "  </tbody>\n",
       "</table>\n",
       "</div>"
      ],
      "text/plain": [
       "        0  1\n",
       "0     Dog  7\n",
       "1     Cat  9\n",
       "2   Tiger  2\n",
       "3    Lion  3\n",
       "4  Monkey  1"
      ]
     },
     "execution_count": 19,
     "metadata": {},
     "output_type": "execute_result"
    }
   ],
   "source": [
    "# 리스트 -> df\n",
    "# 2차원 리스트로 만들어야함\n",
    "list_data = [[\"Dog\", 7], \n",
    "             [\"Cat\", 9], \n",
    "             [\"Tiger\", 2], \n",
    "             [\"Lion\", 3], \n",
    "             [\"Monkey\", 1]]\n",
    "df2 = pd.DataFrame(list_data)\n",
    "df2"
   ]
  },
  {
   "cell_type": "code",
   "execution_count": 20,
   "id": "7c7c8530",
   "metadata": {},
   "outputs": [
    {
     "data": {
      "text/html": [
       "<div>\n",
       "<style scoped>\n",
       "    .dataframe tbody tr th:only-of-type {\n",
       "        vertical-align: middle;\n",
       "    }\n",
       "\n",
       "    .dataframe tbody tr th {\n",
       "        vertical-align: top;\n",
       "    }\n",
       "\n",
       "    .dataframe thead th {\n",
       "        text-align: right;\n",
       "    }\n",
       "</style>\n",
       "<table border=\"1\" class=\"dataframe\">\n",
       "  <thead>\n",
       "    <tr style=\"text-align: right;\">\n",
       "      <th></th>\n",
       "      <th>동물</th>\n",
       "      <th>나이</th>\n",
       "    </tr>\n",
       "  </thead>\n",
       "  <tbody>\n",
       "    <tr>\n",
       "      <th>0</th>\n",
       "      <td>Dog</td>\n",
       "      <td>7</td>\n",
       "    </tr>\n",
       "  </tbody>\n",
       "</table>\n",
       "</div>"
      ],
      "text/plain": [
       "    동물  나이\n",
       "0  Dog   7"
      ]
     },
     "execution_count": 20,
     "metadata": {},
     "output_type": "execute_result"
    }
   ],
   "source": [
    "data_list =[\"Dog\", 7]\n",
    "col_name = [\"동물\", \"나이\"]\n",
    "df2 = pd.DataFrame([data_list], columns=col_name)\n",
    "df2"
   ]
  },
  {
   "cell_type": "code",
   "execution_count": null,
   "id": "cf0d4266",
   "metadata": {},
   "outputs": [],
   "source": []
  }
 ],
 "metadata": {
  "kernelspec": {
   "display_name": "pknu_base_kernel",
   "language": "python",
   "name": "pknu_base"
  },
  "language_info": {
   "codemirror_mode": {
    "name": "ipython",
    "version": 3
   },
   "file_extension": ".py",
   "mimetype": "text/x-python",
   "name": "python",
   "nbconvert_exporter": "python",
   "pygments_lexer": "ipython3",
   "version": "3.9.15"
  }
 },
 "nbformat": 4,
 "nbformat_minor": 5
}
