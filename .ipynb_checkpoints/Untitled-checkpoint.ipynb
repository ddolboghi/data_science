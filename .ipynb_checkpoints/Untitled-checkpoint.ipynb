{
 "cells": [
  {
   "cell_type": "code",
   "execution_count": null,
   "id": "4d2de3b3",
   "metadata": {},
   "outputs": [],
   "source": [
    "*_, a, b, c = sorted(input())\n",
    "print(['1'+b, c][a<b<c]+'000'[a<c:])\n",
    "print(['1'+b, c][a<b<c])\n",
    "print(_, a, b, c)"
   ]
  },
  {
   "cell_type": "code",
   "execution_count": null,
   "id": "e23111ce",
   "metadata": {},
   "outputs": [],
   "source": [
    "[1, 2,3,4][0>3:]"
   ]
  },
  {
   "cell_type": "code",
   "execution_count": null,
   "id": "98889745",
   "metadata": {},
   "outputs": [],
   "source": [
    "a, b, c = map(int, input().split())\n",
    "arr = [a, b, c]\n",
    "visited = set()\n",
    "dup = [x for x in arr if x in visited or visited.add(x)]\n",
    "# or (visited.add(x) or False)\n",
    "print(dup, visited)"
   ]
  },
  {
   "cell_type": "code",
   "execution_count": null,
   "id": "c6c344d4",
   "metadata": {},
   "outputs": [],
   "source": [
    "ar = []\n",
    "for i in range(1, int(input())+1):\n",
    "    ar.append(i)   \n",
    "print(sum(ar))"
   ]
  },
  {
   "cell_type": "code",
   "execution_count": null,
   "id": "461f3e71",
   "metadata": {},
   "outputs": [],
   "source": [
    "n = int(input())\n",
    "for i in range(1, 10):\n",
    "    print(n,\"*\",i,\"=\",n*i)"
   ]
  },
  {
   "cell_type": "code",
   "execution_count": null,
   "id": "c6bb4d6f",
   "metadata": {},
   "outputs": [],
   "source": [
    "n=int(input())\n",
    "for i in range(0, n):\n",
    "    a, b = map(int, input().split())\n",
    "    print(a+b)"
   ]
  },
  {
   "cell_type": "code",
   "execution_count": null,
   "id": "c8aa6967",
   "metadata": {},
   "outputs": [],
   "source": [
    "x=int(input())\n",
    "n=int(input())\n",
    "hap=[]\n",
    "for i in range(0, n):\n",
    "    a, b = map(int, input().split())\n",
    "    hap.append(a*b)\n",
    "if x == sum(hap):\n",
    "    print(\"Yes\")\n",
    "else:\n",
    "    print(\"No\")"
   ]
  },
  {
   "cell_type": "code",
   "execution_count": null,
   "id": "cbcdbadf",
   "metadata": {},
   "outputs": [],
   "source": [
    "# idle에선 실행 안됨\n",
    "import sys\n",
    " \n",
    "t = int(input())\n",
    "for i in range(1, t+1):\n",
    "    a,b = map(int, sys.stdin.readline().split())\n",
    "    hap = a + b\n",
    "    print(\"Case #\"+str(i)+\":\",a,\"+\",b,\"=\",a+b)"
   ]
  },
  {
   "cell_type": "code",
   "execution_count": 13,
   "id": "4670837d",
   "metadata": {
    "scrolled": true
   },
   "outputs": [
    {
     "name": "stdout",
     "output_type": "stream",
     "text": [
      "1\n",
      "*\n"
     ]
    }
   ],
   "source": [
    "n = int(input())\n",
    "for i in range(1, n+1):\n",
    "    print(\" \"*(n-i)+\"*\"*i)"
   ]
  },
  {
   "cell_type": "code",
   "execution_count": 2,
   "id": "76cc1a4f",
   "metadata": {
    "scrolled": true
   },
   "outputs": [
    {
     "name": "stdout",
     "output_type": "stream",
     "text": [
      "1 1\n",
      "2\n",
      "\n"
     ]
    }
   ],
   "source": [
    "while True:\n",
    "    try:\n",
    "        a, b = map(int, input().split())\n",
    "        print(a+b)\n",
    "    except:\n",
    "        break"
   ]
  },
  {
   "cell_type": "code",
   "execution_count": 3,
   "id": "9f2b76a8",
   "metadata": {
    "scrolled": false
   },
   "outputs": [
    {
     "name": "stdout",
     "output_type": "stream",
     "text": [
      "0 0\n"
     ]
    }
   ],
   "source": [
    "while True:\n",
    "    a, b = map(int, input().split())\n",
    "    if a != 0:\n",
    "        print(a+b)\n",
    "    else:\n",
    "        break"
   ]
  },
  {
   "cell_type": "code",
   "execution_count": 51,
   "id": "29bfb07a",
   "metadata": {},
   "outputs": [
    {
     "name": "stdout",
     "output_type": "stream",
     "text": [
      "12\n"
     ]
    },
    {
     "data": {
      "text/plain": [
       "'12'"
      ]
     },
     "execution_count": 51,
     "metadata": {},
     "output_type": "execute_result"
    }
   ],
   "source": [
    "ff=input().zfill(2)\n",
    "ff"
   ]
  },
  {
   "cell_type": "code",
   "execution_count": 61,
   "id": "7242af2e",
   "metadata": {},
   "outputs": [
    {
     "name": "stdout",
     "output_type": "stream",
     "text": [
      "71\n",
      "71 08 18\n",
      "71 09 89\n",
      "71 17 97\n",
      "71 16 76\n",
      "71 13 63\n",
      "71 09 39\n",
      "71 12 92\n",
      "71 11 21\n",
      "71 03 13\n",
      "71 04 34\n",
      "71 07 47\n",
      "71 11 71\n",
      "12\n"
     ]
    }
   ],
   "source": [
    "# 0<=a<=99\n",
    "a = input().zfill(2)\n",
    "r = a\n",
    "cycle=0\n",
    "while True:\n",
    "    hap = str(int(a[0]) + int(a[1])).zfill(2)\n",
    "    a = a[1]+hap[1]\n",
    "    print(r, hap, a)\n",
    "    cycle += 1\n",
    "    if a == r:\n",
    "        print(cycle)\n",
    "        break"
   ]
  },
  {
   "cell_type": "code",
   "execution_count": 1,
   "id": "f7f2e2e6",
   "metadata": {},
   "outputs": [
    {
     "name": "stdout",
     "output_type": "stream",
     "text": [
      "26\n",
      "26 26 1\n",
      "4\n"
     ]
    }
   ],
   "source": [
    "a=n=int(input());c=1\n",
    "print(a, n, c)\n",
    "# 변수 := 표현식 --> 표현식의 결과를 변수에 할당하고, 동시에 반환\n",
    "while(a:=a%10*10+a*11//10%10)-n:c+=1\n",
    "print(c)"
   ]
  },
  {
   "cell_type": "code",
   "execution_count": 5,
   "id": "6912a8a1",
   "metadata": {},
   "outputs": [
    {
     "name": "stdout",
     "output_type": "stream",
     "text": [
      "5\n",
      "20 10 35 30 7\n",
      "7 35\n"
     ]
    }
   ],
   "source": [
    "n = int(input())\n",
    "arr = list(map(int, input().split()))\n",
    "print(min(arr),max(arr))"
   ]
  },
  {
   "cell_type": "code",
   "execution_count": 4,
   "id": "ea0b2458",
   "metadata": {},
   "outputs": [
    {
     "name": "stdout",
     "output_type": "stream",
     "text": [
      "1\n",
      "1\n",
      "1\n",
      "1\n",
      "3\n",
      "1\n",
      "\n",
      "3\n",
      "5\n"
     ]
    }
   ],
   "source": [
    "arr = []\n",
    "big = 0\n",
    "while True:\n",
    "    try:\n",
    "        n = int(input())\n",
    "        arr.append(n)\n",
    "        if big < max(arr):\n",
    "            big = max(arr)   \n",
    "    except:\n",
    "        print(big)\n",
    "        print(arr.index(big)+1)\n",
    "        break"
   ]
  },
  {
   "cell_type": "code",
   "execution_count": 5,
   "id": "7b03fe4f",
   "metadata": {},
   "outputs": [
    {
     "name": "stdout",
     "output_type": "stream",
     "text": [
      "3\n",
      "1\n",
      "4\n",
      "5\n",
      "7\n",
      "9\n",
      "6\n",
      "10\n",
      "11\n",
      "12\n",
      "13\n",
      "14\n",
      "15\n",
      "16\n",
      "17\n",
      "18\n",
      "19\n",
      "20\n",
      "21\n",
      "22\n",
      "23\n",
      "24\n",
      "25\n",
      "26\n",
      "27\n",
      "28\n",
      "29\n",
      "30\n",
      "2 8\n"
     ]
    }
   ],
   "source": [
    "arr = []\n",
    "while True:\n",
    "    n = int(input())\n",
    "    arr.append(n)\n",
    "    if len(arr) == 28:\n",
    "        break\n",
    "b = []\n",
    "for i in range(1, 31):\n",
    "    b.append(i)\n",
    "    for a in arr:\n",
    "        if a == i:\n",
    "            b.remove(a)\n",
    "print(b[0])\n",
    "print(b[1])"
   ]
  },
  {
   "cell_type": "code",
   "execution_count": 6,
   "id": "3f1b0f66",
   "metadata": {},
   "outputs": [
    {
     "name": "stdout",
     "output_type": "stream",
     "text": [
      "1\n",
      "1 [1]\n",
      "2\n",
      "2 [1, 2]\n",
      "3\n",
      "2 [1, 2, 3]\n",
      "4\n",
      "3 [1, 2, 3, 4]\n",
      "9\n",
      "3 [1, 2, 3, 4, 9]\n",
      "8\n",
      "4 [1, 2, 3, 4, 8, 9]\n"
     ]
    }
   ],
   "source": [
    "# binary search\n",
    "arr = []\n",
    "while True:\n",
    "    n = int(input())\n",
    "    arr.append(n)\n",
    "    if len(arr) == 6:\n",
    "        break\n",
    "arr.sort()\n",
    "for i in range(1, 31):\n",
    "    binary = arr[int(len(arr)/2)]\n",
    "        if i < binary:\n",
    "            arr = arr[:binary]\n",
    "            binary = i"
   ]
  },
  {
   "cell_type": "code",
   "execution_count": 5,
   "id": "ad47fad3",
   "metadata": {},
   "outputs": [
    {
     "name": "stdout",
     "output_type": "stream",
     "text": [
      "1\n",
      "2\n",
      "3\n",
      "4\n",
      "5\n",
      "6\n",
      "7\n",
      "8\n",
      "9\n",
      "11\n",
      "10\n"
     ]
    }
   ],
   "source": [
    "arr = []\n",
    "while True:\n",
    "    n = int(input()) % 42\n",
    "    arr.append(n)\n",
    "    if len(arr) == 10:\n",
    "        break\n",
    "    \n",
    "print(len(set(arr)))"
   ]
  },
  {
   "cell_type": "code",
   "execution_count": null,
   "id": "58145833",
   "metadata": {},
   "outputs": [],
   "source": [
    "점수/최댓값*100"
   ]
  }
 ],
 "metadata": {
  "kernelspec": {
   "display_name": "pknu_base_kernel",
   "language": "python",
   "name": "pknu_base"
  },
  "language_info": {
   "codemirror_mode": {
    "name": "ipython",
    "version": 3
   },
   "file_extension": ".py",
   "mimetype": "text/x-python",
   "name": "python",
   "nbconvert_exporter": "python",
   "pygments_lexer": "ipython3",
   "version": "3.9.15"
  }
 },
 "nbformat": 4,
 "nbformat_minor": 5
}
