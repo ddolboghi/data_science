{
 "cells": [
  {
   "cell_type": "markdown",
   "id": "55c2d8de",
   "metadata": {},
   "source": [
    "# 데이터 시각화하기"
   ]
  },
  {
   "cell_type": "code",
   "execution_count": 5,
   "id": "0b596de6",
   "metadata": {},
   "outputs": [
    {
     "data": {
      "application/javascript": [
       "IPython.notebook.set_autosave_interval(0)"
      ]
     },
     "metadata": {},
     "output_type": "display_data"
    },
    {
     "name": "stdout",
     "output_type": "stream",
     "text": [
      "Autosave disabled\n"
     ]
    }
   ],
   "source": [
    "%autosave 0"
   ]
  },
  {
   "cell_type": "code",
   "execution_count": 1,
   "id": "31778797",
   "metadata": {},
   "outputs": [],
   "source": [
    "import pandas as pd\n",
    "df = pd.read_excel(\"./kto_total.xlsx\")"
   ]
  },
  {
   "cell_type": "code",
   "execution_count": 2,
   "id": "6ff294b9",
   "metadata": {},
   "outputs": [
    {
     "name": "stdout",
     "output_type": "stream",
     "text": [
      "<class 'pandas.core.frame.DataFrame'>\n",
      "RangeIndex: 6960 entries, 0 to 6959\n",
      "Data columns (total 11 columns):\n",
      " #   Column    Non-Null Count  Dtype  \n",
      "---  ------    --------------  -----  \n",
      " 0   국적        6960 non-null   object \n",
      " 1   관광        6960 non-null   int64  \n",
      " 2   상용        6960 non-null   int64  \n",
      " 3   공용        6960 non-null   int64  \n",
      " 4   유학/연수     6960 non-null   int64  \n",
      " 5   기타        6960 non-null   int64  \n",
      " 6   계         6960 non-null   int64  \n",
      " 7   기준년월      6960 non-null   object \n",
      " 8   대륙        6960 non-null   object \n",
      " 9   관광객비율(%)  6960 non-null   float64\n",
      " 10  전체비율(%)   6960 non-null   float64\n",
      "dtypes: float64(2), int64(6), object(3)\n",
      "memory usage: 598.2+ KB\n"
     ]
    }
   ],
   "source": [
    "df.info()"
   ]
  },
  {
   "cell_type": "code",
   "execution_count": 3,
   "id": "6e5af483",
   "metadata": {},
   "outputs": [
    {
     "data": {
      "text/html": [
       "<div>\n",
       "<style scoped>\n",
       "    .dataframe tbody tr th:only-of-type {\n",
       "        vertical-align: middle;\n",
       "    }\n",
       "\n",
       "    .dataframe tbody tr th {\n",
       "        vertical-align: top;\n",
       "    }\n",
       "\n",
       "    .dataframe thead th {\n",
       "        text-align: right;\n",
       "    }\n",
       "</style>\n",
       "<table border=\"1\" class=\"dataframe\">\n",
       "  <thead>\n",
       "    <tr style=\"text-align: right;\">\n",
       "      <th></th>\n",
       "      <th>관광</th>\n",
       "      <th>상용</th>\n",
       "      <th>공용</th>\n",
       "      <th>유학/연수</th>\n",
       "      <th>기타</th>\n",
       "      <th>계</th>\n",
       "      <th>관광객비율(%)</th>\n",
       "      <th>전체비율(%)</th>\n",
       "    </tr>\n",
       "  </thead>\n",
       "  <tbody>\n",
       "    <tr>\n",
       "      <th>count</th>\n",
       "      <td>6960.000000</td>\n",
       "      <td>6960.000000</td>\n",
       "      <td>6960.000000</td>\n",
       "      <td>6960.000000</td>\n",
       "      <td>6960.000000</td>\n",
       "      <td>6960.000000</td>\n",
       "      <td>6960.000000</td>\n",
       "      <td>6960.000000</td>\n",
       "    </tr>\n",
       "    <tr>\n",
       "      <th>mean</th>\n",
       "      <td>14151.834914</td>\n",
       "      <td>310.131178</td>\n",
       "      <td>61.251149</td>\n",
       "      <td>303.418822</td>\n",
       "      <td>3383.024713</td>\n",
       "      <td>18209.660776</td>\n",
       "      <td>62.111801</td>\n",
       "      <td>1.666673</td>\n",
       "    </tr>\n",
       "    <tr>\n",
       "      <th>std</th>\n",
       "      <td>52351.026147</td>\n",
       "      <td>1043.723255</td>\n",
       "      <td>250.858698</td>\n",
       "      <td>2116.778318</td>\n",
       "      <td>10269.311046</td>\n",
       "      <td>62120.322558</td>\n",
       "      <td>24.763256</td>\n",
       "      <td>5.915041</td>\n",
       "    </tr>\n",
       "    <tr>\n",
       "      <th>min</th>\n",
       "      <td>0.000000</td>\n",
       "      <td>0.000000</td>\n",
       "      <td>0.000000</td>\n",
       "      <td>0.000000</td>\n",
       "      <td>0.000000</td>\n",
       "      <td>5.000000</td>\n",
       "      <td>0.000000</td>\n",
       "      <td>0.000000</td>\n",
       "    </tr>\n",
       "    <tr>\n",
       "      <th>25%</th>\n",
       "      <td>500.000000</td>\n",
       "      <td>17.000000</td>\n",
       "      <td>1.000000</td>\n",
       "      <td>7.000000</td>\n",
       "      <td>219.000000</td>\n",
       "      <td>953.000000</td>\n",
       "      <td>44.313500</td>\n",
       "      <td>0.064000</td>\n",
       "    </tr>\n",
       "    <tr>\n",
       "      <th>50%</th>\n",
       "      <td>1218.500000</td>\n",
       "      <td>50.000000</td>\n",
       "      <td>5.000000</td>\n",
       "      <td>26.000000</td>\n",
       "      <td>611.000000</td>\n",
       "      <td>2235.500000</td>\n",
       "      <td>68.568500</td>\n",
       "      <td>0.147000</td>\n",
       "    </tr>\n",
       "    <tr>\n",
       "      <th>75%</th>\n",
       "      <td>5805.000000</td>\n",
       "      <td>225.250000</td>\n",
       "      <td>25.000000</td>\n",
       "      <td>85.000000</td>\n",
       "      <td>1854.250000</td>\n",
       "      <td>9773.750000</td>\n",
       "      <td>80.739750</td>\n",
       "      <td>0.736500</td>\n",
       "    </tr>\n",
       "    <tr>\n",
       "      <th>max</th>\n",
       "      <td>823016.000000</td>\n",
       "      <td>25012.000000</td>\n",
       "      <td>3763.000000</td>\n",
       "      <td>44291.000000</td>\n",
       "      <td>137898.000000</td>\n",
       "      <td>917519.000000</td>\n",
       "      <td>100.000000</td>\n",
       "      <td>58.557000</td>\n",
       "    </tr>\n",
       "  </tbody>\n",
       "</table>\n",
       "</div>"
      ],
      "text/plain": [
       "                  관광            상용           공용         유학/연수             기타  \\\n",
       "count    6960.000000   6960.000000  6960.000000   6960.000000    6960.000000   \n",
       "mean    14151.834914    310.131178    61.251149    303.418822    3383.024713   \n",
       "std     52351.026147   1043.723255   250.858698   2116.778318   10269.311046   \n",
       "min         0.000000      0.000000     0.000000      0.000000       0.000000   \n",
       "25%       500.000000     17.000000     1.000000      7.000000     219.000000   \n",
       "50%      1218.500000     50.000000     5.000000     26.000000     611.000000   \n",
       "75%      5805.000000    225.250000    25.000000     85.000000    1854.250000   \n",
       "max    823016.000000  25012.000000  3763.000000  44291.000000  137898.000000   \n",
       "\n",
       "                   계     관광객비율(%)      전체비율(%)  \n",
       "count    6960.000000  6960.000000  6960.000000  \n",
       "mean    18209.660776    62.111801     1.666673  \n",
       "std     62120.322558    24.763256     5.915041  \n",
       "min         5.000000     0.000000     0.000000  \n",
       "25%       953.000000    44.313500     0.064000  \n",
       "50%      2235.500000    68.568500     0.147000  \n",
       "75%      9773.750000    80.739750     0.736500  \n",
       "max    917519.000000   100.000000    58.557000  "
      ]
     },
     "execution_count": 3,
     "metadata": {},
     "output_type": "execute_result"
    }
   ],
   "source": [
    "df.describe()"
   ]
  },
  {
   "cell_type": "code",
   "execution_count": 6,
   "id": "ff7b0341",
   "metadata": {},
   "outputs": [],
   "source": [
    "import matplotlib.pyplot as plt"
   ]
  },
  {
   "cell_type": "markdown",
   "id": "748e54b7",
   "metadata": {},
   "source": [
    "# 한글 폰트 지원 라이브러리\n",
    "```\n",
    "# 시각화 폰트 라이브러리\n",
    "from matplotlib import font_manager, rc\n",
    "\n",
    "# 한글처리\n",
    "# -윈도우용\n",
    "plt.rc(\"font\", family=\"Malgun Gothic\")\n",
    "\n",
    "# -Mac용\n",
    "plt.rc(\"font\", family=\"AppleGothic\")\n",
    "\n",
    "# 음수 기호 처리 설정\n",
    "plt.rcParams['axes.unicode_minus'] = False\n",
    "\n",
    "# 운영체제 확인하는 라이브러리\n",
    "import platform\n",
    "\n",
    "## 운영체제별 폰트 정의하기(가끔 안됨)\n",
    "if platform.system() == \"Windows\":\n",
    "  path = \"C:/Windows/Fonts/malgun.ttf\"\n",
    "  font_name = font_manager.FontProperties(fname=path).get_name()\n",
    "  rc(\"font\", family=font_name)\n",
    "  \n",
    " elif platform.system() == \"Darwin\":\n",
    "   rc(\"font\", family=\"AppleGothic\")\n",
    " else:\n",
    "   print(\"Check your OS System\")\n",
    "   \n",
    "\n",
    "```"
   ]
  },
  {
   "cell_type": "code",
   "execution_count": 9,
   "id": "017efdd5",
   "metadata": {},
   "outputs": [],
   "source": [
    "from matplotlib import font_manager, rc\n",
    "import platform"
   ]
  },
  {
   "cell_type": "code",
   "execution_count": 10,
   "id": "5df9c44b",
   "metadata": {},
   "outputs": [],
   "source": [
    "# 한글처리 기본적으로 사용\n",
    "# -윈도우용\n",
    "plt.rc(\"font\", family=\"Malgun Gothic\")\n",
    "\n",
    "# -Mac용\n",
    "# plt.rc(\"font\", family=\"AppleGothic\")"
   ]
  },
  {
   "cell_type": "code",
   "execution_count": 11,
   "id": "de1ce20f",
   "metadata": {},
   "outputs": [],
   "source": [
    "# 음수 기호 처리 설정\n",
    "plt.rcParams['axes.unicode_minus'] = False"
   ]
  },
  {
   "cell_type": "code",
   "execution_count": 13,
   "id": "ea3d2e44",
   "metadata": {},
   "outputs": [
    {
     "name": "stdout",
     "output_type": "stream",
     "text": [
      "116\n"
     ]
    },
    {
     "data": {
      "text/html": [
       "<div>\n",
       "<style scoped>\n",
       "    .dataframe tbody tr th:only-of-type {\n",
       "        vertical-align: middle;\n",
       "    }\n",
       "\n",
       "    .dataframe tbody tr th {\n",
       "        vertical-align: top;\n",
       "    }\n",
       "\n",
       "    .dataframe thead th {\n",
       "        text-align: right;\n",
       "    }\n",
       "</style>\n",
       "<table border=\"1\" class=\"dataframe\">\n",
       "  <thead>\n",
       "    <tr style=\"text-align: right;\">\n",
       "      <th></th>\n",
       "      <th>국적</th>\n",
       "      <th>관광</th>\n",
       "      <th>상용</th>\n",
       "      <th>공용</th>\n",
       "      <th>유학/연수</th>\n",
       "      <th>기타</th>\n",
       "      <th>계</th>\n",
       "      <th>기준년월</th>\n",
       "      <th>대륙</th>\n",
       "      <th>관광객비율(%)</th>\n",
       "      <th>전체비율(%)</th>\n",
       "    </tr>\n",
       "  </thead>\n",
       "  <tbody>\n",
       "    <tr>\n",
       "      <th>17</th>\n",
       "      <td>중국</td>\n",
       "      <td>40425</td>\n",
       "      <td>11930</td>\n",
       "      <td>55</td>\n",
       "      <td>2751</td>\n",
       "      <td>36091</td>\n",
       "      <td>91252</td>\n",
       "      <td>2010-01</td>\n",
       "      <td>아시아</td>\n",
       "      <td>44.3</td>\n",
       "      <td>10.086</td>\n",
       "    </tr>\n",
       "  </tbody>\n",
       "</table>\n",
       "</div>"
      ],
      "text/plain": [
       "    국적     관광     상용  공용  유학/연수     기타      계     기준년월   대륙  관광객비율(%)  전체비율(%)\n",
       "17  중국  40425  11930  55   2751  36091  91252  2010-01  아시아      44.3   10.086"
      ]
     },
     "execution_count": 13,
     "metadata": {},
     "output_type": "execute_result"
    }
   ],
   "source": [
    "df_filter = df[df[\"국적\"] == \"중국\"]\n",
    "print(len(df_filter))\n",
    "df_filter.head(1)"
   ]
  },
  {
   "cell_type": "markdown",
   "id": "61926709",
   "metadata": {},
   "source": [
    "# 선 그래프 그리기\n",
    "## plt.plot(x, y)\n",
    "- x: x축 기준 컬럼\n",
    "- y: y축 기준 컬럼"
   ]
  },
  {
   "cell_type": "code",
   "execution_count": 14,
   "id": "80b4db9a",
   "metadata": {},
   "outputs": [
    {
     "data": {
      "image/png": "[encoded data removed]",
      "text/plain": [
       "<Figure size 640x480 with 1 Axes>"
      ]
     },
     "metadata": {},
     "output_type": "display_data"
    }
   ],
   "source": [
    "plt.plot(df_filter[\"기준년월\"], df_filter[\"관광\"])\n",
    "plt.show()"
   ]
  },
  {
   "cell_type": "markdown",
   "id": "b497f359",
   "metadata": {},
   "source": [
    "# 그래프 디자인\n",
    "- plt.figure(figsize=(너비, 높이))\n",
    "- plt.title(\"그래프 제목\")\n",
    "- plt.xlabel(\"x축 제목\")\n",
    "- plt.ylabel(\"y축 제목\")\n",
    "- plt.xticks([\"파일에 실제 존재하는 값\", \"  \", ... ]): x축을 실제 존재하는 값만 표시"
   ]
  },
  {
   "cell_type": "code",
   "execution_count": 20,
   "id": "b4770a69",
   "metadata": {},
   "outputs": [
    {
     "data": {
      "image/png": "[encoded data removed]",
      "text/plain": [
       "<Figure size 1200x400 with 1 Axes>"
      ]
     },
     "metadata": {},
     "output_type": "display_data"
    }
   ],
   "source": [
    "plt.figure(figsize=(12, 4))\n",
    "plt.plot(df_filter[\"기준년월\"], df_filter[\"관광\"])\n",
    "plt.title(\"중국 국적의 관광객 추이\")\n",
    "plt.xlabel(\"기준년월\")\n",
    "plt.ylabel(\"관광객수\")\n",
    "\n",
    "plt.xticks([\"2010-01\", \"2011-01\", \"2012-01\", \"2013-01\",\"2014-01\", \"2015-01\",\n",
    "           \"2016-01\", \"2017-01\", \"2018-01\", \"2019-01\"])\n",
    "\n",
    "plt.show()"
   ]
  },
  {
   "cell_type": "code",
   "execution_count": 47,
   "id": "53c7aebd",
   "metadata": {},
   "outputs": [
    {
     "data": {
      "text/html": [
       "<div>\n",
       "<style scoped>\n",
       "    .dataframe tbody tr th:only-of-type {\n",
       "        vertical-align: middle;\n",
       "    }\n",
       "\n",
       "    .dataframe tbody tr th {\n",
       "        vertical-align: top;\n",
       "    }\n",
       "\n",
       "    .dataframe thead th {\n",
       "        text-align: right;\n",
       "    }\n",
       "</style>\n",
       "<table border=\"1\" class=\"dataframe\">\n",
       "  <thead>\n",
       "    <tr style=\"text-align: right;\">\n",
       "      <th></th>\n",
       "      <th>전체비율(%)</th>\n",
       "    </tr>\n",
       "    <tr>\n",
       "      <th>국적</th>\n",
       "      <th></th>\n",
       "    </tr>\n",
       "  </thead>\n",
       "  <tbody>\n",
       "    <tr>\n",
       "      <th>중국</th>\n",
       "      <td>32.114224</td>\n",
       "    </tr>\n",
       "    <tr>\n",
       "      <th>일본</th>\n",
       "      <td>28.352414</td>\n",
       "    </tr>\n",
       "    <tr>\n",
       "      <th>대만</th>\n",
       "      <td>6.648276</td>\n",
       "    </tr>\n",
       "    <tr>\n",
       "      <th>미국</th>\n",
       "      <td>6.035784</td>\n",
       "    </tr>\n",
       "    <tr>\n",
       "      <th>홍콩</th>\n",
       "      <td>4.646483</td>\n",
       "    </tr>\n",
       "  </tbody>\n",
       "</table>\n",
       "</div>"
      ],
      "text/plain": [
       "      전체비율(%)\n",
       "국적           \n",
       "중국  32.114224\n",
       "일본  28.352414\n",
       "대만   6.648276\n",
       "미국   6.035784\n",
       "홍콩   4.646483"
      ]
     },
     "execution_count": 47,
     "metadata": {},
     "output_type": "execute_result"
    }
   ],
   "source": [
    "# 우리나라에 방문하는 외국인 관광객이 가장 많은 국가 순으로 top5 조회하기\n",
    "temp = df.pivot_table(values=\"전체비율(%)\",\n",
    "              index=\"국적\",\n",
    "              aggfunc=\"mean\").sort_values(\"전체비율(%)\", ascending=False).head(5)\n",
    "temp\n",
    "# 일반적인 df형태가 아님"
   ]
  },
  {
   "cell_type": "markdown",
   "id": "b21aedf6",
   "metadata": {},
   "source": [
    "# 피벗테이블 형태를 df 형태로 변환하기\n",
    "- 피벗테이블.reset_index(inplace=True)\n",
    "- inplace=True: 원본 데이터 바뀜, 메모리에 자동 저장, default False"
   ]
  },
  {
   "cell_type": "code",
   "execution_count": 50,
   "id": "9d6b4c9c",
   "metadata": {},
   "outputs": [],
   "source": [
    "temp.reset_index(inplace=True)"
   ]
  },
  {
   "cell_type": "code",
   "execution_count": 51,
   "id": "b3a34c4b",
   "metadata": {},
   "outputs": [
    {
     "data": {
      "text/html": [
       "<div>\n",
       "<style scoped>\n",
       "    .dataframe tbody tr th:only-of-type {\n",
       "        vertical-align: middle;\n",
       "    }\n",
       "\n",
       "    .dataframe tbody tr th {\n",
       "        vertical-align: top;\n",
       "    }\n",
       "\n",
       "    .dataframe thead th {\n",
       "        text-align: right;\n",
       "    }\n",
       "</style>\n",
       "<table border=\"1\" class=\"dataframe\">\n",
       "  <thead>\n",
       "    <tr style=\"text-align: right;\">\n",
       "      <th></th>\n",
       "      <th>국적</th>\n",
       "      <th>전체비율(%)</th>\n",
       "    </tr>\n",
       "  </thead>\n",
       "  <tbody>\n",
       "    <tr>\n",
       "      <th>0</th>\n",
       "      <td>중국</td>\n",
       "      <td>32.114224</td>\n",
       "    </tr>\n",
       "    <tr>\n",
       "      <th>1</th>\n",
       "      <td>일본</td>\n",
       "      <td>28.352414</td>\n",
       "    </tr>\n",
       "    <tr>\n",
       "      <th>2</th>\n",
       "      <td>대만</td>\n",
       "      <td>6.648276</td>\n",
       "    </tr>\n",
       "    <tr>\n",
       "      <th>3</th>\n",
       "      <td>미국</td>\n",
       "      <td>6.035784</td>\n",
       "    </tr>\n",
       "    <tr>\n",
       "      <th>4</th>\n",
       "      <td>홍콩</td>\n",
       "      <td>4.646483</td>\n",
       "    </tr>\n",
       "  </tbody>\n",
       "</table>\n",
       "</div>"
      ],
      "text/plain": [
       "   국적    전체비율(%)\n",
       "0  중국  32.114224\n",
       "1  일본  28.352414\n",
       "2  대만   6.648276\n",
       "3  미국   6.035784\n",
       "4  홍콩   4.646483"
      ]
     },
     "execution_count": 51,
     "metadata": {},
     "output_type": "execute_result"
    }
   ],
   "source": [
    "temp"
   ]
  }
 ],
 "metadata": {
  "kernelspec": {
   "display_name": "Python 3 (ipykernel)",
   "language": "python",
   "name": "python3"
  },
  "language_info": {
   "codemirror_mode": {
    "name": "ipython",
    "version": 3
   },
   "file_extension": ".py",
   "mimetype": "text/x-python",
   "name": "python",
   "nbconvert_exporter": "python",
   "pygments_lexer": "ipython3",
   "version": "3.8.15"
  }
 },
 "nbformat": 4,
 "nbformat_minor": 5
}
